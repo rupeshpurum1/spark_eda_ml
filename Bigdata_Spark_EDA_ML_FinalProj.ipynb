{
 "cells": [
  {
   "cell_type": "markdown",
   "metadata": {
    "id": "N3Qm0bhQrAoj"
   },
   "source": [
    " <center>\n",
    "    <h1> Analyzing Consumer Finance Complaints</h1>\n",
    "</center>\n",
    "\n",
    "**` Exploratory Data Analysis with SPARK SQL`**<br>\n",
    "**` ML Modeling with SparkMLlib`**\n",
    "\n",
    "\n",
    "\n",
    "---"
   ]
  },
  {
   "cell_type": "markdown",
   "metadata": {
    "id": "xpBNctWamc_M"
   },
   "source": [
    " Table of Contents cell navigation may not work in Google Colab. Kindly use the colab inbuilt Table of Contents through<br>\n",
    " **`View --> Table of contents`**\n",
    "\n",
    " # Table of Contents\n",
    "\n",
    "- [Introduction](#introduction)\n",
    "- [Data Preparation](#data-preparation)\n",
    "- [Exploratory Data Analysis (EDA)](#exploratory-data-analysis-eda)\n",
    "- [Machine Learning Models Implementation](#machine-learning-models-implementation)\n",
    "- [Further Data Processing](#further-data-processing)\n",
    "- [Model Evaluation and Comparison](#model-evaluation-and-comparison)\n",
    "- [Analysis and Insights](#analysis-and-insights)\n",
    "- [Conclusion](#conclusion)\n",
    "- [References](#references)"
   ]
  },
  {
   "cell_type": "code",
   "execution_count": null,
   "metadata": {
    "colab": {
     "base_uri": "https://localhost:8080/"
    },
    "id": "NoDS2JsY4Cga",
    "outputId": "d836d51a-6eb4-44d1-a80a-8ffaa5958ab1"
   },
   "outputs": [
    {
     "name": "stdout",
     "output_type": "stream",
     "text": [
      "/content\n"
     ]
    }
   ],
   "source": [
    "import os\n",
    "print(os.getcwd())\n",
    "# os.listdir(\"drive/MyDrive\")\n",
    "#compalints-2024-10-30_15_36.csv"
   ]
  },
  {
   "cell_type": "code",
   "execution_count": null,
   "metadata": {
    "colab": {
     "base_uri": "https://localhost:8080/"
    },
    "id": "93z3NWYM2du8",
    "outputId": "b4ce188b-c2ec-4ddc-8ff6-c387dce27d93"
   },
   "outputs": [
    {
     "name": "stdout",
     "output_type": "stream",
     "text": [
      "Mounted at /content/drive\n"
     ]
    }
   ],
   "source": [
    "from google.colab import drive\n",
    "drive.mount('/content/drive')"
   ]
  },
  {
   "cell_type": "code",
   "execution_count": null,
   "metadata": {
    "id": "xIaDBWgrw7AS"
   },
   "outputs": [],
   "source": []
  },
  {
   "cell_type": "markdown",
   "metadata": {
    "id": "_L8Gp1uVwZNr"
   },
   "source": []
  },
  {
   "cell_type": "markdown",
   "metadata": {
    "id": "Zo3DAvJ1cZe2"
   },
   "source": [
    "# Introduction"
   ]
  },
  {
   "cell_type": "markdown",
   "metadata": {},
   "source": [
    "### Agenda"
   ]
  },
  {
   "cell_type": "markdown",
   "metadata": {
    "id": "eJYUDVw-8eV1"
   },
   "source": [
    "1. Prepare and clean the dataset, handle missing values and schema adjustments. Manage data loading, optimization, and storage in efficient formats like Parquet.\n",
    "\n",
    "2. Perform EDA to uncover trends and patterns in complaints using Spark SQL and visualizations. Highlight key insights, such as top issues, regions, and products.\n",
    "\n",
    "3. Implement and evaluated models like Logistic Regression, Decision Tree, and Naive Bayes. Handle feature engineering, model tuning, and metrics evaluation.\n",
    "\n",
    "4. Interpret EDA and model results, connect findings to business objectives. Compile the final report, crafting actionable recommendations and presentation materials"
   ]
  },
  {
   "cell_type": "markdown",
   "metadata": {
    "id": "y4x9rS_4cYsO"
   },
   "source": [
    "- Data Source:[consumerfinance](https://www.consumerfinance.gov/data-research/consumer-complaints/search/?date_received_max=2024-08-06&date_received_min=2024-07-29&has_narrative=true&page=1&searchField=all&size=25&sort=created_date_desc&tab=List)\n",
    "\n",
    "\n",
    "**Collection Details:** Data is downloaded on October 31st. Only downloaded last 3 years of data due to big nature of the dataset.\n",
    "\n",
    "**Size and Format:** Data is downloaded in the csv format. Size of data is around 1.6 Gigabytes, with more than 12 lakhs observations.\n",
    "\n",
    "**Dataset Description:**\n",
    "The Consumer Complaint Database represents complaints submitted by consumers about financial products and services. These complaints are collected by the Consumer Financial Protection Bureau (CFPB) and forwarded to the respective companies for a response. The dataset includes several components that describe each complaint in detail. The key fields in the database are:\n",
    "\n",
    "- Date received: The date the CFPB received the complaint.\n",
    "- Product: The type of financial product involved in the complaint (e.g., mortgage, credit card).\n",
    "- Sub-product: Specific type of sub-product related to the complaint (e.g., fixed-rate mortgage, adjustable-rate mortgage).\n",
    "- Issue: The main issue identified in the complaint (e.g., billing error, late fees).\n",
    "- Sub-issue: A more detailed classification of the complaint’s issue (e.g., incorrect charges, failure to process payments).\n",
    "- Consumer complaint narrative: The description of what happened from the consumer’s perspective, shared only with consumer consent.\n",
    "- Company public response: The company's public-facing response to the complaint, such as \"resolved\" or \"isolated error.\"\n",
    "- Company: The company the complaint is filed against.\n",
    "- State and ZIP code: The geographic location of the consumer.\n",
    "- Tags: Tags such as \"Older American\" or \"Servicemember\" that support easy searching of complaints.\n",
    "- Consumer consent provided?: Whether the consumer consented to having their complaint narrative published.\n",
    "- Submitted via: The medium through which the complaint was submitted (e.g., online form, phone).\n",
    "- Date sent to company: The date the complaint was forwarded to the company for resolution.\n",
    "- Company response to consumer: The company’s response to the complaint (e.g., resolved, closed with explanation).\n",
    "- Timely response?: Indicates if the company responded to the complaint within the required timeframe.\n",
    "- Consumer disputed?: Whether the consumer disagreed with the company's response.\n",
    "- Complaint ID: A unique identifier for each complaint.\n",
    "\n",
    "The dataset is structured with categorical variables (such as product type, state, and company) and some date-time fields (e.g., date received, date sent to the company). It includes both qualitative data (narrative responses and tags) and quantitative data (e.g., complaint ID, number of responses)."
   ]
  },
  {
   "cell_type": "markdown",
   "metadata": {
    "id": "Y58LEzgRwZNv"
   },
   "source": [
    "## Data Preparation\n",
    "\n",
    "#### Data Relevance and Applications\n",
    "This dataset holds immense business value as it provides real-time visibility into consumer issues across the financial industry. Its diverse set of attributes allows for multi-faceted analysis, essential for:\n",
    "- **Trend Analysis**: Identifying patterns in complaints can reveal areas where specific products or services are underperforming.\n",
    "- **Geospatial Insights**: ZIP code data helps pinpoint geographic regions with higher complaint concentrations, useful for localized strategies.\n",
    "- **Sentiment and Response Analysis**: Evaluating consumer narratives and response timelines sheds light on consumer sentiment and company responsiveness.\n",
    "- **Predictive Modeling**: Machine learning can be used to anticipate the nature of future complaints based on past data, aiding in proactive service improvements.\n",
    "\n",
    "Through data preparation involving data cleaning, feature engineering, and exploratory analysis, this project sets the stage for a comprehensive examination of consumer feedback. By leveraging big data tools like Apache Spark, we aim to transform these consumer complaints into strategic insights that can shape better service delivery, compliance practices, and business outcomes.\n",
    "```"
   ]
  },
  {
   "cell_type": "markdown",
   "metadata": {
    "id": "BbqRG7KpwZNx"
   },
   "source": [
    "\n",
    "#### Data Loading\n",
    "The CSV data file was loaded into a Spark DataFrame using PySpark after being uploaded to the Databricks File System (DBFS). [DBFS](https://docs.databricks.com/user-guide/dbfs-databricks-file-system.html) is an integral part of Databricks, providing a scalable and reliable storage layer that allows seamless data access for processing and analysis within the platform. In this notebook, we utilize DBFS to read the file efficiently and prepare it for further analysis.\n",
    "\n",
    "The CSV file was read into a Spark DataFrame using the following PySpark code components:\n",
    "- **`spark.read.format(file_type)`**: Specifies the file format to be read (in this case, CSV).\n",
    "- **`.option(\"inferSchema\", infer_schema)`**: Enables automatic schema inference, allowing Spark to detect and apply appropriate data types to each column.\n",
    "- **`.option(\"header\", first_row_is_header)`**: Treats the first row as a header to capture column names accurately.\n",
    "- **`.option(\"multiLine\", \"true\")`**: Reads multi-line records as single entries.\n",
    "    - **Reason for use**: CSV files often include fields with newline characters (e.g., long text or detailed descriptions). This option ensures such fields are interpreted as a single record instead of being split into multiple rows, preserving data integrity for comprehensive analysis.\n",
    "- **`.option(\"escape\", \"\\\"\")`**: Defines the escape character to handle special characters.\n",
    "    - **Reason for use**: CSV data often includes text fields surrounded by double quotes or containing commas and newline characters. The escape character helps Spark parse such text fields without mistakenly treating these characters as delimiters, ensuring that the content structure remains intact.\n",
    "\n",
    "These options collectively ensure that the data loading process is robust and capable of handling various complexities in the CSV file, such as multi-line descriptions and embedded special characters. This step prepares the data for efficient querying and analysis, setting the stage for further data preparation and exploration.\n",
    "\n"
   ]
  },
  {
   "cell_type": "markdown",
   "metadata": {
    "id": "5R3T4o3m6VEv"
   },
   "source": [
    "*` Installing necessary packages`*\n",
    "**Not required if running in DataBricks**"
   ]
  },
  {
   "cell_type": "code",
   "execution_count": null,
   "metadata": {
    "colab": {
     "base_uri": "https://localhost:8080/"
    },
    "id": "YKu7K3Xm6Tkr",
    "outputId": "f1b143de-5bb6-469d-da0e-e99acd28d0fa"
   },
   "outputs": [
    {
     "name": "stdout",
     "output_type": "stream",
     "text": [
      "\u001b[33m\r0% [Working]\u001b[0m\r            \rGet:1 https://cloud.r-project.org/bin/linux/ubuntu jammy-cran40/ InRelease [3,626 B]\n",
      "Get:2 https://developer.download.nvidia.com/compute/cuda/repos/ubuntu2204/x86_64  InRelease [1,581 B]\n",
      "Hit:3 http://archive.ubuntu.com/ubuntu jammy InRelease\n",
      "Get:4 https://r2u.stat.illinois.edu/ubuntu jammy InRelease [6,555 B]\n",
      "Get:5 http://archive.ubuntu.com/ubuntu jammy-updates InRelease [128 kB]\n",
      "Get:6 http://security.ubuntu.com/ubuntu jammy-security InRelease [129 kB]\n",
      "Get:7 https://developer.download.nvidia.com/compute/cuda/repos/ubuntu2204/x86_64  Packages [1,110 kB]\n",
      "Get:8 http://archive.ubuntu.com/ubuntu jammy-backports InRelease [127 kB]\n",
      "Hit:9 https://ppa.launchpadcontent.net/deadsnakes/ppa/ubuntu jammy InRelease\n",
      "Hit:10 https://ppa.launchpadcontent.net/graphics-drivers/ppa/ubuntu jammy InRelease\n",
      "Hit:11 https://ppa.launchpadcontent.net/ubuntugis/ppa/ubuntu jammy InRelease\n",
      "Get:12 https://r2u.stat.illinois.edu/ubuntu jammy/main amd64 Packages [2,614 kB]\n",
      "Get:13 http://archive.ubuntu.com/ubuntu jammy-updates/main amd64 Packages [2,701 kB]\n",
      "Get:14 http://archive.ubuntu.com/ubuntu jammy-updates/universe amd64 Packages [1,453 kB]\n",
      "Get:15 https://r2u.stat.illinois.edu/ubuntu jammy/main all Packages [8,482 kB]\n",
      "Get:16 http://security.ubuntu.com/ubuntu jammy-security/universe amd64 Packages [1,164 kB]\n",
      "Get:17 http://security.ubuntu.com/ubuntu jammy-security/main amd64 Packages [2,425 kB]\n",
      "Fetched 20.3 MB in 3s (5,835 kB/s)\n",
      "Reading package lists... Done\n",
      "Building dependency tree... Done\n",
      "Reading state information... Done\n",
      "56 packages can be upgraded. Run 'apt list --upgradable' to see them.\n",
      "\u001b[1;33mW: \u001b[0mSkipping acquire of configured file 'main/source/Sources' as repository 'https://r2u.stat.illinois.edu/ubuntu jammy InRelease' does not seem to provide it (sources.list entry misspelt?)\u001b[0m\n",
      "tar: spark-3.2.1-bin-hadoop3.2.tgz: Cannot open: No such file or directory\n",
      "tar: Error is not recoverable: exiting now\n",
      "Requirement already satisfied: pyspark in /usr/local/lib/python3.10/dist-packages (3.5.3)\n",
      "Requirement already satisfied: py4j==0.10.9.7 in /usr/local/lib/python3.10/dist-packages (from pyspark) (0.10.9.7)\n",
      "Requirement already satisfied: py4j in /usr/local/lib/python3.10/dist-packages (0.10.9.7)\n"
     ]
    }
   ],
   "source": [
    "!sudo apt update\n",
    "!apt-get install openjdk-8-jdk-headless -qq > /dev/null\n",
    "#Check this site for the latest download link https://www.apache.org/dyn/closer.lua/spark/spark-3.2.1/spark-3.2.1-bin-hadoop3.2.tgz\n",
    "!wget -q https://dlcdn.apache.org/spark/spark-3.2.1/spark-3.2.1-bin-hadoop3.2.tgz\n",
    "!tar xf spark-3.2.1-bin-hadoop3.2.tgz\n",
    "!pip install -q findspark\n",
    "!pip install pyspark\n",
    "!pip install py4j\n",
    "\n",
    "import os\n",
    "import sys\n",
    "# os.environ[\"JAVA_HOME\"] = \"/usr/lib/jvm/java-8-openjdk-amd64\"\n",
    "# os.environ[\"SPARK_HOME\"] = \"/content/spark-3.2.1-bin-hadoop3.2\""
   ]
  },
  {
   "cell_type": "markdown",
   "metadata": {
    "id": "LlnwDbVjwZNy"
   },
   "source": [
    "*` Importing necessary packages`*\n",
    "**Not required if running in DataBricks**"
   ]
  },
  {
   "cell_type": "code",
   "execution_count": null,
   "metadata": {
    "id": "KZyonblewZN0"
   },
   "outputs": [],
   "source": [
    "import findspark\n",
    "import pandas as pd\n",
    "findspark.init()\n",
    "\n",
    "from pyspark.sql import functions as F\n",
    "from pyspark.sql.types import DateType, IntegerType, StringType, ByteType\n",
    "\n",
    "\n",
    "from pyspark.sql import SparkSession;\n",
    "from pyspark.sql.functions import col, isnan, when, count\n",
    "from pyspark.ml.feature import StringIndexer, OneHotEncoder, VectorAssembler, StandardScaler\n",
    "from pyspark.ml import Pipeline\n",
    "from pyspark.ml.classification import LogisticRegression, DecisionTreeClassifier, MultilayerPerceptronClassifier\n",
    "from pyspark.ml.evaluation import BinaryClassificationEvaluator\n",
    "from pyspark.ml.evaluation import MulticlassClassificationEvaluator"
   ]
  },
  {
   "cell_type": "markdown",
   "metadata": {
    "id": "TV5Pg3YAwZN2"
   },
   "source": [
    "*` Spark Initial Code`*\n",
    "**Not required if running in DataBricks**"
   ]
  },
  {
   "cell_type": "code",
   "execution_count": null,
   "metadata": {
    "colab": {
     "base_uri": "https://localhost:8080/"
    },
    "id": "heZgIPDjwZN2",
    "outputId": "623602e7-1b77-405c-9852-589397dbe568"
   },
   "outputs": [
    {
     "name": "stdout",
     "output_type": "stream",
     "text": [
      "Spark Session WebUI Port: 4040\n"
     ]
    }
   ],
   "source": [
    "spark = SparkSession.builder.master(\"local[4]\").appName(\"Final Exam\").enableHiveSupport().getOrCreate();\n",
    "\n",
    "# Let's get the SparkContext object. It's the entry point to the Spark API. It's created when you create a sparksession\n",
    "sc = spark.sparkContext\n",
    "\n",
    "# note: If you have multiple spark sessions running (like from a previous notebook you've run),\n",
    "# this spark session webUI will be on a different port than the default (4040). One way to\n",
    "# identify this part is with the following line. If there was only one spark session running,\n",
    "# this will be 4040. If it's higher, it means there are still other spark sesssions still running.\n",
    "spark_session_port = spark.sparkContext.uiWebUrl.split(\":\")[-1]\n",
    "print(\"Spark Session WebUI Port: \" + spark_session_port)"
   ]
  },
  {
   "cell_type": "markdown",
   "metadata": {
    "id": "lf9wXzemwZN3"
   },
   "source": [
    "*` File Location =  \"/FileStore/tables/complaints_2024_10_30_15_36.csv\"`*\n",
    "**if running in DataBricks**"
   ]
  },
  {
   "cell_type": "code",
   "execution_count": null,
   "metadata": {
    "colab": {
     "base_uri": "https://localhost:8080/"
    },
    "id": "AfqZ3Sq672LW",
    "outputId": "166325c7-a7e4-4232-d6d1-43762ffe8fb5"
   },
   "outputs": [
    {
     "name": "stdout",
     "output_type": "stream",
     "text": [
      "complaints-2024-10-30_15_36.csv  complaints-2024-10-31_17_43.csv  consumer_complaints\n"
     ]
    }
   ],
   "source": [
    "!ls /content/drive/MyDrive/bigdata_proj_data"
   ]
  },
  {
   "cell_type": "code",
   "execution_count": null,
   "metadata": {
    "colab": {
     "base_uri": "https://localhost:8080/"
    },
    "id": "1muplLHjwZN6",
    "outputId": "4abf910a-e762-4480-9b5e-4abf4979c819"
   },
   "outputs": [
    {
     "name": "stdout",
     "output_type": "stream",
     "text": [
      "+-------------+--------------------+--------------------+--------------------+--------------------+----------------------------+-----------------------+--------------------+-----+--------+--------------+--------------------------+-------------+--------------------+----------------------------+----------------+------------------+------------+\n",
      "|Date received|             Product|         Sub-product|               Issue|           Sub-issue|Consumer complaint narrative|Company public response|             Company|State|ZIP code|          Tags|Consumer consent provided?|Submitted via|Date sent to company|Company response to consumer|Timely response?|Consumer disputed?|Complaint ID|\n",
      "+-------------+--------------------+--------------------+--------------------+--------------------+----------------------------+-----------------------+--------------------+-----+--------+--------------+--------------------------+-------------+--------------------+----------------------------+----------------+------------------+------------+\n",
      "|     06/21/24|     Debt collection|       I do not know|Threatened to con...|Talked to a third...|        Remove all fraudu...|   Company has respo...|TRANSUNION INTERM...|   MI|   48221|          None|          Consent provided|          Web|            06/21/24|        Closed with non-m...|             Yes|               N/A|     9305151|\n",
      "|     10/18/23|Credit reporting ...|    Credit reporting|Problem with a co...|Investigation too...|        I have filed a di...|   Company has respo...|Experian Informat...|   TX|   77346|          None|          Consent provided|          Web|            10/18/23|        Closed with expla...|             Yes|               N/A|     7721712|\n",
      "|     09/11/23|Credit reporting ...|    Credit reporting|Incorrect informa...|Information belon...|        I am urging you t...|   Company has respo...|Experian Informat...|   GA|   30067|          None|          Consent provided|          Web|            09/11/23|        Closed with expla...|             Yes|               N/A|     7533902|\n",
      "|     06/22/24|         Credit card|   Store credit card|    Fees or interest|   Problem with fees|        I own a XXXX XXXX...|                   None|Bread Financial H...|   MT|   593XX|Older American|          Consent provided|          Web|            06/22/24|        Closed with non-m...|             Yes|               N/A|     9367861|\n",
      "|     04/04/24|        Student loan|Federal student l...|Dealing with your...|Problem with cust...|        I applied for a n...|   Company believes ...|              MOHELA|   WI|   537XX|          None|          Consent provided|          Web|            04/04/24|        Closed with expla...|             Yes|               N/A|     8695400|\n",
      "+-------------+--------------------+--------------------+--------------------+--------------------+----------------------------+-----------------------+--------------------+-----+--------+--------------+--------------------------+-------------+--------------------+----------------------------+----------------+------------------+------------+\n",
      "only showing top 5 rows\n",
      "\n"
     ]
    }
   ],
   "source": [
    "#file_location = \"/FileStore/tables/complaints_2024_10_30_15_36.csv\"  # Path to the CSV file in the Databricks File System (DBFS)\n",
    "\n",
    "PROJECT_DIR = \"/content/drive/MyDrive/bigdata_proj_data\"\n",
    "file_location = f\"{PROJECT_DIR}/complaints-2024-10-30_15_36.csv\"\n",
    "file_type = \"csv\"  # File format specified as CSV\n",
    "\n",
    "# CSV options\n",
    "infer_schema = \"true\"  # Enables Spark to infer the data types of columns automatically\n",
    "first_row_is_header = \"true\"  # Treats the first row as the header to capture column names\n",
    "\n",
    "df = spark.read.format(file_type)\\\n",
    "  .option(\"inferSchema\", infer_schema)\\\n",
    "  .option(\"header\", first_row_is_header)\\\n",
    "  .option(\"multiLine\", \"true\")\\\n",
    "  .option('escape', \"\\\"\")\\\n",
    "  .load(file_location)\n",
    "\n",
    "df.show(5)  # Displays the first 5 records of the DataFrame in the notebook"
   ]
  },
  {
   "cell_type": "code",
   "execution_count": null,
   "metadata": {
    "colab": {
     "base_uri": "https://localhost:8080/"
    },
    "id": "f-1Dm5j6wZN6",
    "outputId": "4676d098-3313-4eb4-82af-a79298b9c228"
   },
   "outputs": [
    {
     "name": "stdout",
     "output_type": "stream",
     "text": [
      "Number of rows in the dataframe: 1294602\n"
     ]
    }
   ],
   "source": [
    "print(f\"Number of rows in the dataframe: {df.count()}\")"
   ]
  },
  {
   "cell_type": "code",
   "execution_count": null,
   "metadata": {
    "colab": {
     "base_uri": "https://localhost:8080/"
    },
    "id": "UX0nGPNYwZN7",
    "outputId": "ae67069a-c449-47f0-dd01-270df509ab7c"
   },
   "outputs": [
    {
     "name": "stdout",
     "output_type": "stream",
     "text": [
      "root\n",
      " |-- Date received: string (nullable = true)\n",
      " |-- Product: string (nullable = true)\n",
      " |-- Sub-product: string (nullable = true)\n",
      " |-- Issue: string (nullable = true)\n",
      " |-- Sub-issue: string (nullable = true)\n",
      " |-- Consumer complaint narrative: string (nullable = true)\n",
      " |-- Company public response: string (nullable = true)\n",
      " |-- Company: string (nullable = true)\n",
      " |-- State: string (nullable = true)\n",
      " |-- ZIP code: string (nullable = true)\n",
      " |-- Tags: string (nullable = true)\n",
      " |-- Consumer consent provided?: string (nullable = true)\n",
      " |-- Submitted via: string (nullable = true)\n",
      " |-- Date sent to company: string (nullable = true)\n",
      " |-- Company response to consumer: string (nullable = true)\n",
      " |-- Timely response?: string (nullable = true)\n",
      " |-- Consumer disputed?: string (nullable = true)\n",
      " |-- Complaint ID: integer (nullable = true)\n",
      "\n"
     ]
    }
   ],
   "source": [
    "# Display the schema of the dataframe to understand the dataypes and structure of the data\n",
    "df.printSchema()"
   ]
  },
  {
   "cell_type": "markdown",
   "metadata": {
    "id": "p7fEknd3wZN7"
   },
   "source": [
    "Renaming the columns, remove spaces, lower case and use underscores for easy referencing."
   ]
  },
  {
   "cell_type": "code",
   "execution_count": null,
   "metadata": {
    "id": "w57HlqGFwZN7"
   },
   "outputs": [],
   "source": [
    "# Adjust data types and rename columns for clarity\n",
    "from pyspark.sql import functions as F\n",
    "from pyspark.sql.types import DateType, IntegerType, StringType\n",
    "\n",
    "# Rename columns (remove special characters and replace spaces with underscores)\n",
    "df = df.withColumnRenamed(\"Date received\", \"date_received\") \\\n",
    "       .withColumnRenamed(\"Product\", \"product\") \\\n",
    "       .withColumnRenamed(\"Sub-product\", \"sub_product\") \\\n",
    "       .withColumnRenamed(\"Issue\", \"issue\") \\\n",
    "       .withColumnRenamed(\"Sub-issue\", \"sub_issue\") \\\n",
    "       .withColumnRenamed(\"Consumer complaint narrative\", \"consumer_complaint_narrative\") \\\n",
    "       .withColumnRenamed(\"Company public response\", \"company_public_response\") \\\n",
    "       .withColumnRenamed(\"Company\", \"company\") \\\n",
    "       .withColumnRenamed(\"State\", \"state\") \\\n",
    "       .withColumnRenamed(\"ZIP code\", \"zip_code\") \\\n",
    "       .withColumnRenamed(\"Tags\", \"tags\") \\\n",
    "       .withColumnRenamed(\"Consumer consent provided?\", \"consumer_consent_provided\") \\\n",
    "       .withColumnRenamed(\"Submitted via\", \"submitted_via\") \\\n",
    "       .withColumnRenamed(\"Date sent to company\", \"date_sent_to_company\") \\\n",
    "       .withColumnRenamed(\"Company response to consumer\", \"company_response_to_consumer\") \\\n",
    "       .withColumnRenamed(\"Timely response?\", \"timely_response\") \\\n",
    "       .withColumnRenamed(\"Consumer disputed?\", \"consumer_disputed\") \\\n",
    "       .withColumnRenamed(\"Complaint ID\", \"complaint_id\")"
   ]
  },
  {
   "cell_type": "markdown",
   "metadata": {
    "id": "zTtGvzfqwZN8"
   },
   "source": [
    "NULL values in this datasets are represented using None or as N/A. Hence replacing them to get the count of total null values in each column"
   ]
  },
  {
   "cell_type": "code",
   "execution_count": null,
   "metadata": {
    "colab": {
     "base_uri": "https://localhost:8080/"
    },
    "id": "U5f_MUJMwZN8",
    "outputId": "ac950177-11be-497c-f19f-d264139244e6"
   },
   "outputs": [
    {
     "name": "stdout",
     "output_type": "stream",
     "text": [
      "+-------------+-------+-----------+-----+---------+----------------------------+-----------------------+-------+-----+--------+-------+-------------------------+-------------+--------------------+----------------------------+---------------+-----------------+------------+\n",
      "|date_received|product|sub_product|issue|sub_issue|consumer_complaint_narrative|company_public_response|company|state|zip_code|   tags|consumer_consent_provided|submitted_via|date_sent_to_company|company_response_to_consumer|timely_response|consumer_disputed|complaint_id|\n",
      "+-------------+-------+-----------+-----+---------+----------------------------+-----------------------+-------+-----+--------+-------+-------------------------+-------------+--------------------+----------------------------+---------------+-----------------+------------+\n",
      "|            0|      0|          4|    0|    57973|                           0|                 556356|      0| 3920|       0|1177407|                        0|            0|                   0|                           8|              0|          1294602|           0|\n",
      "+-------------+-------+-----------+-----+---------+----------------------------+-----------------------+-------+-----+--------+-------+-------------------------+-------------+--------------------+----------------------------+---------------+-----------------+------------+\n",
      "\n"
     ]
    }
   ],
   "source": [
    "# Replace 'None' and 'N/A' with null across all string columns\n",
    "df = df.replace(\"None\", None).replace(\"N/A\", None)\n",
    "\n",
    "# Count nulls in each column\n",
    "null_counts = df.select([F.sum(F.col(c).isNull().cast(\"int\")).alias(c) for c in df.columns])\n",
    "\n",
    "# Show the result\n",
    "null_counts.show()"
   ]
  },
  {
   "cell_type": "markdown",
   "metadata": {
    "id": "saMz7rWjwZN8"
   },
   "source": [
    "#### Columns to Drop:\n",
    "We decided to drop below columns based on the 30% row threshold.\n",
    "\n",
    " - company_public_response (556,356 nulls)\n",
    " - tags (1,177,407 nulls)\n",
    " - consumer_disputed (1,294,602 nulls)\n",
    "\n",
    "Also, Consumer Consent Provided & Submitted Via Column has singular value, It wont be of use for analysis and can be removed.\n",
    "\n",
    "Next, I filled the columns with null values - State and Sub-Issue with \"Unknown\""
   ]
  },
  {
   "cell_type": "code",
   "execution_count": null,
   "metadata": {
    "colab": {
     "base_uri": "https://localhost:8080/"
    },
    "id": "jy3xyAiSwZN9",
    "outputId": "bc71ae04-473f-4588-d143-e71296ffc925"
   },
   "outputs": [
    {
     "name": "stdout",
     "output_type": "stream",
     "text": [
      "+-------------------------+\n",
      "|consumer_consent_provided|\n",
      "+-------------------------+\n",
      "|         Consent provided|\n",
      "+-------------------------+\n",
      "\n"
     ]
    }
   ],
   "source": [
    "df.select(\"consumer_consent_provided\").distinct().show(10)"
   ]
  },
  {
   "cell_type": "code",
   "execution_count": null,
   "metadata": {
    "colab": {
     "base_uri": "https://localhost:8080/"
    },
    "id": "tbBaEooCwZN9",
    "outputId": "30e884a6-acfa-4a9a-bc96-e2b7c37c0c0c"
   },
   "outputs": [
    {
     "name": "stdout",
     "output_type": "stream",
     "text": [
      "+-------------+\n",
      "|submitted_via|\n",
      "+-------------+\n",
      "|          Web|\n",
      "+-------------+\n",
      "\n"
     ]
    }
   ],
   "source": [
    "df.select(\"submitted_via\").distinct().show(3)"
   ]
  },
  {
   "cell_type": "code",
   "execution_count": null,
   "metadata": {
    "id": "AT1j1SSWwZN-"
   },
   "outputs": [],
   "source": [
    "# Drop columns that exceed the 30% null threshold\n",
    "columns_to_drop = [\"company_public_response\", \"tags\", \"consumer_disputed\", \"consumer_consent_provided\", \"submitted_via\"]\n",
    "df = df.drop(*columns_to_drop)\n",
    "\n",
    "# Handle missing values (example: replace nulls in 'state' and 'sub-issue' columns with \"Unknown\")\n",
    "df = df.fillna({\"state\": \"Unknown\", \"sub_issue\": \"Unknown\"})"
   ]
  },
  {
   "cell_type": "markdown",
   "metadata": {
    "id": "dThKoZmowZN_"
   },
   "source": [
    "Encoded the timely response column containing yes/no to binary column"
   ]
  },
  {
   "cell_type": "code",
   "execution_count": null,
   "metadata": {
    "id": "iMyPZ5NiwZN_"
   },
   "outputs": [],
   "source": [
    "# Normalize categorical columns as needed\n",
    "df = df.withColumn(\"timely_response\", F.when(F.col(\"timely_response\") == \"Yes\", 1).otherwise(0))"
   ]
  },
  {
   "cell_type": "markdown",
   "metadata": {
    "id": "iBYgcsrcwZN_"
   },
   "source": [
    "Convert the timley response column to Integer Type and Print schema."
   ]
  },
  {
   "cell_type": "code",
   "execution_count": null,
   "metadata": {
    "colab": {
     "base_uri": "https://localhost:8080/"
    },
    "id": "vulIRyuOwZOA",
    "outputId": "67df8d2f-78a7-4ca6-c914-23434e528d9e"
   },
   "outputs": [
    {
     "name": "stdout",
     "output_type": "stream",
     "text": [
      "root\n",
      " |-- date_received: date (nullable = true)\n",
      " |-- product: string (nullable = true)\n",
      " |-- sub_product: string (nullable = true)\n",
      " |-- issue: string (nullable = true)\n",
      " |-- sub_issue: string (nullable = false)\n",
      " |-- consumer_complaint_narrative: string (nullable = true)\n",
      " |-- company: string (nullable = true)\n",
      " |-- state: string (nullable = false)\n",
      " |-- zip_code: string (nullable = true)\n",
      " |-- date_sent_to_company: string (nullable = true)\n",
      " |-- company_response_to_consumer: string (nullable = true)\n",
      " |-- timely_response: integer (nullable = false)\n",
      " |-- complaint_id: integer (nullable = true)\n",
      "\n"
     ]
    }
   ],
   "source": [
    "# Correct data types\n",
    "df = df.withColumn(\"timely_response\", F.col(\"timely_response\").cast(IntegerType()))\n",
    "df = df.withColumn(\"date_received\", F.to_date(F.col(\"date_received\"), \"MM/dd/yy\"))\n",
    "\n",
    "# Show final schema and data types after transformation\n",
    "df.printSchema()"
   ]
  },
  {
   "cell_type": "code",
   "execution_count": null,
   "metadata": {
    "colab": {
     "base_uri": "https://localhost:8080/"
    },
    "id": "tQZp2mOpWljP",
    "outputId": "e8e45a3e-8506-4457-b7c0-731cb5b24701"
   },
   "outputs": [
    {
     "name": "stdout",
     "output_type": "stream",
     "text": [
      "+-------------+--------------------+--------------------+--------------------+--------------------+----------------------------+--------------------+-----+--------+--------------------+----------------------------+---------------+------------+\n",
      "|date_received|             product|         sub_product|               issue|           sub_issue|consumer_complaint_narrative|             company|state|zip_code|date_sent_to_company|company_response_to_consumer|timely_response|complaint_id|\n",
      "+-------------+--------------------+--------------------+--------------------+--------------------+----------------------------+--------------------+-----+--------+--------------------+----------------------------+---------------+------------+\n",
      "|   2024-06-21|     Debt collection|       I do not know|Threatened to con...|Talked to a third...|        Remove all fraudu...|TRANSUNION INTERM...|   MI|   48221|            06/21/24|        Closed with non-m...|              1|     9305151|\n",
      "|   2023-10-18|Credit reporting ...|    Credit reporting|Problem with a co...|Investigation too...|        I have filed a di...|Experian Informat...|   TX|   77346|            10/18/23|        Closed with expla...|              1|     7721712|\n",
      "|   2023-09-11|Credit reporting ...|    Credit reporting|Incorrect informa...|Information belon...|        I am urging you t...|Experian Informat...|   GA|   30067|            09/11/23|        Closed with expla...|              1|     7533902|\n",
      "|   2024-06-22|         Credit card|   Store credit card|    Fees or interest|   Problem with fees|        I own a XXXX XXXX...|Bread Financial H...|   MT|   593XX|            06/22/24|        Closed with non-m...|              1|     9367861|\n",
      "|   2024-04-04|        Student loan|Federal student l...|Dealing with your...|Problem with cust...|        I applied for a n...|              MOHELA|   WI|   537XX|            04/04/24|        Closed with expla...|              1|     8695400|\n",
      "+-------------+--------------------+--------------------+--------------------+--------------------+----------------------------+--------------------+-----+--------+--------------------+----------------------------+---------------+------------+\n",
      "only showing top 5 rows\n",
      "\n"
     ]
    }
   ],
   "source": [
    "df.show(5)"
   ]
  },
  {
   "cell_type": "code",
   "execution_count": null,
   "metadata": {
    "id": "vt90SXd-dZnT"
   },
   "outputs": [],
   "source": [
    "from pyspark.sql.functions import col, regexp_replace, split, explode\n",
    "\n",
    "# Clean text by replacing non-alphabetic characters with spaces\n",
    "df = df.filter(col(\"consumer_complaint_narrative\").isNotNull()) \\\n",
    "    .withColumn(\"consumer_complaint_narrative\", regexp_replace(col(\"consumer_complaint_narrative\"), r\"[^a-zA-Z\\s]\", \" \"))"
   ]
  },
  {
   "cell_type": "markdown",
   "metadata": {
    "id": "HosADjd2wZOA"
   },
   "source": [
    "### Data Storage\n",
    "Store the transformed data in a persistent table: Use methods like .write.saveAsTable() to persist the DataFrame. Ensure the data is saved in an appropriate format and location accessible for querying."
   ]
  },
  {
   "cell_type": "code",
   "execution_count": null,
   "metadata": {
    "id": "qRrJK9pTc2Kn"
   },
   "outputs": [],
   "source": [
    "# Removing the data if it is already existing.\n",
    "!rm -rf {PROJECT_DIR}/consumer_complaints"
   ]
  },
  {
   "cell_type": "code",
   "execution_count": null,
   "metadata": {
    "id": "lVMyTslK49rs"
   },
   "outputs": [],
   "source": [
    "# Once saved, this table will persist across cluster restarts as well as allow various users across different notebooks to query this data.\n",
    "# To do so, choose your table name and uncomment the bottom line.\n",
    "permanent_table_name = \"consumer_complaints\"\n",
    "df.write.format(\"parquet\").mode(\"overwrite\").saveAsTable(permanent_table_name)"
   ]
  },
  {
   "cell_type": "code",
   "execution_count": null,
   "metadata": {
    "id": "z4yEXhpk7H_5"
   },
   "outputs": [],
   "source": [
    "!cp -r /content/spark-warehouse/consumer_complaints {PROJECT_DIR}/consumer_complaints"
   ]
  },
  {
   "cell_type": "code",
   "execution_count": null,
   "metadata": {
    "id": "6nYjPsj7wZOB"
   },
   "outputs": [],
   "source": [
    "# import os, shutil\n",
    "# from pyspark.sql import SparkSession\n",
    "\n",
    "# permanent_table_name = \"consumer_complaints\"\n",
    "\n",
    "# # Path to save the Parquet file\n",
    "# output_path = PROJECT_DIR + permanent_table_name\n",
    "\n",
    "# #Remove the directory if it exists\n",
    "# try:\n",
    "#   shutil.rmtree(output_path, ignore_errors=True)\n",
    "# except:\n",
    "#   pass\n",
    "\n",
    "# # Save DataFrame as Parquet\n",
    "# df.write.format(\"parquet\").mode(\"overwrite\").save(output_path)"
   ]
  },
  {
   "cell_type": "code",
   "execution_count": null,
   "metadata": {
    "colab": {
     "base_uri": "https://localhost:8080/"
    },
    "id": "xSPc2bTbgT56",
    "outputId": "cca720f5-f585-4bba-cc00-6bac1488b456"
   },
   "outputs": [
    {
     "name": "stdout",
     "output_type": "stream",
     "text": [
      "/content/drive/MyDrive/bigdata_proj_data/consumer_complaints/part-00000-2ab8f4b0-d923-40ac-b6b3-41993fd64d5c-c000.snappy.parquet\n",
      "/content/drive/MyDrive/bigdata_proj_data/consumer_complaints/.part-00000-2ab8f4b0-d923-40ac-b6b3-41993fd64d5c-c000.snappy.parquet.crc\n",
      "/content/consumer_complaints/.part-00000-fbdfebb8-66a5-4688-bd3d-2f5506f3a150-c000.snappy.parquet.crc\n",
      "/content/consumer_complaints/part-00001-fbdfebb8-66a5-4688-bd3d-2f5506f3a150-c000.snappy.parquet\n",
      "/content/consumer_complaints/.part-00003-fbdfebb8-66a5-4688-bd3d-2f5506f3a150-c000.snappy.parquet.crc\n",
      "/content/consumer_complaints/.part-00001-fbdfebb8-66a5-4688-bd3d-2f5506f3a150-c000.snappy.parquet.crc\n",
      "/content/consumer_complaints/.part-00004-fbdfebb8-66a5-4688-bd3d-2f5506f3a150-c000.snappy.parquet.crc\n",
      "/content/consumer_complaints/part-00004-fbdfebb8-66a5-4688-bd3d-2f5506f3a150-c000.snappy.parquet\n",
      "/content/consumer_complaints/.part-00002-fbdfebb8-66a5-4688-bd3d-2f5506f3a150-c000.snappy.parquet.crc\n",
      "/content/consumer_complaints/part-00000-fbdfebb8-66a5-4688-bd3d-2f5506f3a150-c000.snappy.parquet\n",
      "/content/consumer_complaints/part-00003-fbdfebb8-66a5-4688-bd3d-2f5506f3a150-c000.snappy.parquet\n",
      "/content/consumer_complaints/part-00002-fbdfebb8-66a5-4688-bd3d-2f5506f3a150-c000.snappy.parquet\n",
      "/content/spark-warehouse/consumer_complaints/.part-00000-2ab8f4b0-d923-40ac-b6b3-41993fd64d5c-c000.snappy.parquet.crc\n",
      "/content/spark-warehouse/consumer_complaints/part-00000-2ab8f4b0-d923-40ac-b6b3-41993fd64d5c-c000.snappy.parquet\n"
     ]
    }
   ],
   "source": [
    "!find /content -iname *parquet*"
   ]
  },
  {
   "cell_type": "code",
   "execution_count": null,
   "metadata": {
    "colab": {
     "base_uri": "https://localhost:8080/"
    },
    "id": "4VDb8iX2g_SE",
    "outputId": "70b8a57e-4236-4aed-a058-2620a6b6581c"
   },
   "outputs": [
    {
     "name": "stdout",
     "output_type": "stream",
     "text": [
      "ls: cannot access '/content/my_parquet_data/*': No such file or directory\n"
     ]
    }
   ],
   "source": [
    "!ls -lrth /content/my_parquet_data/*"
   ]
  },
  {
   "cell_type": "code",
   "execution_count": null,
   "metadata": {
    "id": "0RKYqdU20_Ev"
   },
   "outputs": [],
   "source": []
  },
  {
   "cell_type": "markdown",
   "metadata": {
    "id": "0KgbdNhzwZOB"
   },
   "source": [
    "### Temporary View Creation\n",
    "Create a temporary view of the data: Use .createOrReplaceTempView(\"view_name\") to enable SQL queries on the DataFrame."
   ]
  },
  {
   "cell_type": "code",
   "execution_count": null,
   "metadata": {
    "id": "QTDhtqK8wZOB"
   },
   "outputs": [],
   "source": [
    "# Create a view or table with name complaints\n",
    "temp_table_name = \"complaints\"\n",
    "df.createOrReplaceTempView(temp_table_name)"
   ]
  },
  {
   "cell_type": "code",
   "execution_count": null,
   "metadata": {
    "colab": {
     "base_uri": "https://localhost:8080/"
    },
    "id": "GSUJWgySoc84",
    "outputId": "0ff14f1e-3920-433b-c901-4a5a696f3f7f"
   },
   "outputs": [
    {
     "name": "stdout",
     "output_type": "stream",
     "text": [
      "+----------------------------+---------+-------+\n",
      "|col_name                    |data_type|comment|\n",
      "+----------------------------+---------+-------+\n",
      "|date_received               |date     |NULL   |\n",
      "|product                     |string   |NULL   |\n",
      "|sub_product                 |string   |NULL   |\n",
      "|issue                       |string   |NULL   |\n",
      "|sub_issue                   |string   |NULL   |\n",
      "|consumer_complaint_narrative|string   |NULL   |\n",
      "|company                     |string   |NULL   |\n",
      "|state                       |string   |NULL   |\n",
      "|zip_code                    |string   |NULL   |\n",
      "|date_sent_to_company        |string   |NULL   |\n",
      "|company_response_to_consumer|string   |NULL   |\n",
      "|timely_response             |int      |NULL   |\n",
      "|complaint_id                |int      |NULL   |\n",
      "+----------------------------+---------+-------+\n",
      "\n"
     ]
    }
   ],
   "source": [
    "# View the column names and the respective data types\n",
    "spark.sql(\"\"\"DESCRIBE complaints\"\"\").show(truncate=False)"
   ]
  },
  {
   "cell_type": "code",
   "execution_count": null,
   "metadata": {
    "colab": {
     "base_uri": "https://localhost:8080/"
    },
    "id": "U78BR39JojpP",
    "outputId": "3a23cd62-1597-4dcb-a5b2-5d6604185970"
   },
   "outputs": [
    {
     "name": "stdout",
     "output_type": "stream",
     "text": [
      "+--------+\n",
      "|count(1)|\n",
      "+--------+\n",
      "| 1294602|\n",
      "+--------+\n",
      "\n"
     ]
    }
   ],
   "source": [
    "spark.sql(\"select count(*) from complaints\").show()"
   ]
  },
  {
   "cell_type": "markdown",
   "metadata": {
    "id": "J_0VGPv8wZOC"
   },
   "source": [
    "## 3. Exploratory Data Analysis"
   ]
  },
  {
   "cell_type": "markdown",
   "metadata": {
    "id": "X-9eTgXWpNW5"
   },
   "source": [
    "To begin our exploratory data analysis (EDA) in Spark SQL, let's create some key queries to uncover insights. Based on the schema, here are a few ideas for questions and corresponding Spark SQL queries:"
   ]
  },
  {
   "cell_type": "markdown",
   "metadata": {
    "id": "nDruZcU1pTFU"
   },
   "source": [
    "#### 3.1 Top 5 Most Common Issues\n",
    "Find the most frequently reported issues to identify major areas of consumer concern."
   ]
  },
  {
   "cell_type": "code",
   "execution_count": null,
   "metadata": {
    "colab": {
     "base_uri": "https://localhost:8080/"
    },
    "id": "B5IRebXLpRqW",
    "outputId": "319e59bc-9693-4209-f731-38d27f803a26"
   },
   "outputs": [
    {
     "name": "stdout",
     "output_type": "stream",
     "text": [
      "+--------------------------------------------------------------------------------+-----------+\n",
      "|issue                                                                           |issue_count|\n",
      "+--------------------------------------------------------------------------------+-----------+\n",
      "|Incorrect information on your report                                            |396606     |\n",
      "|Improper use of your report                                                     |286133     |\n",
      "|Problem with a credit reporting company's investigation into an existing problem|130434     |\n",
      "|Problem with a company's investigation into an existing problem                 |129563     |\n",
      "|Attempts to collect debt not owed                                               |52503      |\n",
      "+--------------------------------------------------------------------------------+-----------+\n",
      "\n"
     ]
    }
   ],
   "source": [
    "spark.sql(\"\"\"\n",
    "          select issue,\n",
    "          count(*) as issue_count from complaints\n",
    "          group by issue\n",
    "          order by issue_count desc\n",
    "          limit 5\n",
    "          \"\"\").show(truncate=False)"
   ]
  },
  {
   "cell_type": "markdown",
   "metadata": {
    "id": "-8kkZbN_piyY"
   },
   "source": [
    "#### 3.2 Monthly Trend of Complaints Over Time\n",
    "Analyze the trend of complaints over time by month to detect any seasonal patterns or spikes in complaints."
   ]
  },
  {
   "cell_type": "code",
   "execution_count": null,
   "metadata": {
    "colab": {
     "base_uri": "https://localhost:8080/"
    },
    "id": "CxLgljYdp58-",
    "outputId": "3eddd35b-733d-448f-cabe-e442fb3ee12a"
   },
   "outputs": [
    {
     "name": "stdout",
     "output_type": "stream",
     "text": [
      "+----+-----+---------------+\n",
      "|year|month|complaint_count|\n",
      "+----+-----+---------------+\n",
      "|2021|   10|            688|\n",
      "|2021|   11|          10478|\n",
      "|2021|   12|          14392|\n",
      "|2022|    1|          13175|\n",
      "|2022|    2|          15584|\n",
      "|2022|    3|          17834|\n",
      "|2022|    4|          23161|\n",
      "|2022|    5|          20392|\n",
      "|2022|    6|          19732|\n",
      "|2022|    7|          23100|\n",
      "+----+-----+---------------+\n",
      "only showing top 10 rows\n",
      "\n"
     ]
    }
   ],
   "source": [
    "spark.sql(\"\"\"\n",
    "    SELECT YEAR(`date_received`) AS year, MONTH(`date_received`) AS month, COUNT(*) AS complaint_count\n",
    "    FROM complaints\n",
    "    GROUP BY year, month\n",
    "    ORDER BY year, month\n",
    "\"\"\").show(10)"
   ]
  },
  {
   "cell_type": "code",
   "execution_count": null,
   "metadata": {
    "colab": {
     "base_uri": "https://localhost:8080/",
     "height": 564
    },
    "id": "Li3nXoUfqJij",
    "outputId": "10804fb5-ab0d-40f3-af0c-cbf1fbccdbe2"
   },
   "outputs": [
    {
     "data": {
      "image/png": "[encoded data removed]",
      "text/plain": [
       "<Figure size 1000x600 with 1 Axes>"
      ]
     },
     "metadata": {},
     "output_type": "display_data"
    }
   ],
   "source": [
    "from pyspark.sql.functions import year, month, count\n",
    "import matplotlib.pyplot as plt\n",
    "import pandas as pd\n",
    "\n",
    "# Aggregate complaint counts by month and year\n",
    "monthly_trend_df = df.groupBy(year(\"date_received\").alias(\"year\"), month(\"date_received\").alias(\"month\")) \\\n",
    "                     .agg(count(\"*\").alias(\"complaint_count\")) \\\n",
    "                     .orderBy(\"year\", \"month\") \\\n",
    "                     .toPandas()  # Convert to Pandas DataFrame for plotting\n",
    "\n",
    "# Create a new datetime column for plotting purposes\n",
    "monthly_trend_df['date'] = pd.to_datetime(monthly_trend_df[['year', 'month']].assign(day=1))\n",
    "\n",
    "# Plot the monthly trend\n",
    "plt.figure(figsize=(10, 6))\n",
    "plt.plot(monthly_trend_df['date'], monthly_trend_df['complaint_count'], marker='o')\n",
    "plt.title(\"Complaint Trend Over Time\")\n",
    "plt.xlabel(\"Date\")\n",
    "plt.ylabel(\"Number of Complaints\")\n",
    "plt.grid(True)\n",
    "plt.show()"
   ]
  },
  {
   "cell_type": "markdown",
   "metadata": {
    "id": "kEjSFklrqSJB"
   },
   "source": [
    "The line graph above displays the trend of complaints over time. There is a noticeable upward trend in complaint volume over the observed period, peaking around mid-2024. This trend could suggest increasing consumer awareness, reporting behavior, or issues in the financial services sector. The sharp drop towards the end may be due to incomplete data for the latest period or a seasonal decline in complaints."
   ]
  },
  {
   "cell_type": "markdown",
   "metadata": {
    "id": "sW4EgvrhqXxl"
   },
   "source": [
    "#### 3.3 Distribution of Complaints by Product\n",
    "Identify how complaints are distributed across different products."
   ]
  },
  {
   "cell_type": "code",
   "execution_count": null,
   "metadata": {
    "colab": {
     "base_uri": "https://localhost:8080/"
    },
    "id": "Cc-P71mlqjyv",
    "outputId": "36d715ba-9fbb-4972-8f74-bcc3d54b0bf2"
   },
   "outputs": [
    {
     "name": "stdout",
     "output_type": "stream",
     "text": [
      "+----------------------------------------------------------------------------+-------------+\n",
      "|product                                                                     |product_count|\n",
      "+----------------------------------------------------------------------------+-------------+\n",
      "|Credit reporting or other personal consumer reports                         |520027       |\n",
      "|Credit reporting, credit repair services, or other personal consumer reports|421746       |\n",
      "|Debt collection                                                             |110267       |\n",
      "|Checking or savings account                                                 |63004        |\n",
      "|Credit card or prepaid card                                                 |39701        |\n",
      "|Credit card                                                                 |38489        |\n",
      "|Mortgage                                                                    |32093        |\n",
      "|Money transfer, virtual currency, or money service                          |21969        |\n",
      "|Vehicle loan or lease                                                       |16518        |\n",
      "|Student loan                                                                |15136        |\n",
      "|Payday loan, title loan, or personal loan                                   |5532         |\n",
      "|Payday loan, title loan, personal loan, or advance loan                     |4938         |\n",
      "|Prepaid card                                                                |3931         |\n",
      "|Debt or credit management                                                   |1251         |\n",
      "+----------------------------------------------------------------------------+-------------+\n",
      "\n"
     ]
    }
   ],
   "source": [
    "spark.sql(\"\"\"\n",
    "    SELECT product, COUNT(*) AS product_count\n",
    "    FROM complaints\n",
    "    GROUP BY product\n",
    "    ORDER BY product_count DESC\n",
    "\"\"\").show(truncate = False)"
   ]
  },
  {
   "cell_type": "code",
   "execution_count": null,
   "metadata": {
    "colab": {
     "base_uri": "https://localhost:8080/",
     "height": 607
    },
    "id": "ffJVNLb-qsJ-",
    "outputId": "3d01047a-3c26-4a80-837d-848288668de3"
   },
   "outputs": [
    {
     "data": {
      "image/png": "[encoded data removed]",
      "text/plain": [
       "<Figure size 1000x600 with 1 Axes>"
      ]
     },
     "metadata": {},
     "output_type": "display_data"
    }
   ],
   "source": [
    "# Aggregate complaint counts by Product\n",
    "product_distribution_df = df.groupBy(\"product\") \\\n",
    "                            .agg(count(\"*\").alias(\"product_count\")) \\\n",
    "                            .orderBy(\"product_count\", ascending=False) \\\n",
    "                            .toPandas()  # Convert to Pandas DataFrame for plotting\n",
    "\n",
    "# Plot the distribution by product\n",
    "plt.figure(figsize=(10, 6))\n",
    "plt.bar(product_distribution_df[\"product\"], product_distribution_df[\"product_count\"])\n",
    "plt.title(\"Distribution of Complaints by Product\")\n",
    "plt.xlabel(\"Product\")\n",
    "plt.ylabel(\"Number of Complaints\")\n",
    "plt.xticks(rotation=45, ha=\"right\")\n",
    "plt.tight_layout()\n",
    "plt.show()"
   ]
  },
  {
   "cell_type": "markdown",
   "metadata": {
    "id": "HMDz5e1Oq3OD"
   },
   "source": [
    "The bar chart above illustrates the distribution of consumer complaints by product type. The data highlights that the majority of complaints are related to \"Credit Reporting\" and \"Credit Repair Services,\" indicating significant consumer issues with these products. Other high-complaint categories include debt collection, checking or savings accounts, and credit card services. This distribution provides insight into the types of financial products that generate the most consumer dissatisfaction."
   ]
  },
  {
   "cell_type": "markdown",
   "metadata": {
    "id": "3YaZng52q-lU"
   },
   "source": [
    "#### 3.4 Timely Response Analysis\n",
    "Evaluate how often companies provide timely responses by calculating the percentage of timely responses"
   ]
  },
  {
   "cell_type": "code",
   "execution_count": null,
   "metadata": {
    "colab": {
     "base_uri": "https://localhost:8080/"
    },
    "id": "9fZyyStnrD4_",
    "outputId": "1ec1f158-f610-4070-9948-ffe0820edbc2"
   },
   "outputs": [
    {
     "name": "stdout",
     "output_type": "stream",
     "text": [
      "+---------------+--------------+----------+\n",
      "|timely_response|response_count|percentage|\n",
      "+---------------+--------------+----------+\n",
      "|              1|       1286206|     99.35|\n",
      "|              0|          8396|      0.65|\n",
      "+---------------+--------------+----------+\n",
      "\n"
     ]
    }
   ],
   "source": [
    "spark.sql(\"\"\"\n",
    "    SELECT `timely_response`, COUNT(*) AS response_count,\n",
    "           ROUND(100.0 * COUNT(*) / SUM(COUNT(*)) OVER (), 2) AS percentage\n",
    "    FROM complaints\n",
    "    GROUP BY `timely_response`\n",
    "\"\"\").show()"
   ]
  },
  {
   "cell_type": "code",
   "execution_count": null,
   "metadata": {
    "colab": {
     "base_uri": "https://localhost:8080/",
     "height": 521
    },
    "id": "MVX7oWQTrLW5",
    "outputId": "f0fac33a-100d-47b0-8b3c-c0eb1814e0da"
   },
   "outputs": [
    {
     "data": {
      "image/png": "[encoded data removed]",
      "text/plain": [
       "<Figure size 600x600 with 1 Axes>"
      ]
     },
     "metadata": {},
     "output_type": "display_data"
    }
   ],
   "source": [
    "# Count timely vs. untimely responses\n",
    "timely_response_df = df.groupBy(\"timely_response\") \\\n",
    "                       .agg(count(\"*\").alias(\"response_count\")) \\\n",
    "                       .toPandas()  # Convert to Pandas DataFrame for plotting\n",
    "\n",
    "# Plot the timely response percentage\n",
    "plt.figure(figsize=(6, 6))\n",
    "plt.pie(timely_response_df[\"response_count\"], labels=timely_response_df[\"timely_response\"], autopct='%1.1f%%', startangle=140)\n",
    "plt.title(\"Timely Response Percentage\")\n",
    "plt.show()"
   ]
  },
  {
   "cell_type": "markdown",
   "metadata": {
    "id": "KOtApvwprQT_"
   },
   "source": [
    "The pie chart above shows the percentage of complaints that received timely responses from the companies involved. A significant 99.4% of complaints received responses within a timely manner, while only 0.6% did not. This high timely response rate indicates that most companies in the financial sector are responsive to consumer complaints, adhering to regulatory standards or maintaining customer service expectations."
   ]
  },
  {
   "cell_type": "markdown",
   "metadata": {
    "id": "mkxA_1MErWWh"
   },
   "source": [
    "#### 3.5 Complaints by State\n",
    "Geographic distribution of complaints, indicating areas with the highest levels of consumer dissatisfaction."
   ]
  },
  {
   "cell_type": "markdown",
   "metadata": {
    "id": "FP3OBUjMreZJ"
   },
   "source": [
    "The query below lists the top 10 states with the highest number of complaints."
   ]
  },
  {
   "cell_type": "code",
   "execution_count": null,
   "metadata": {
    "colab": {
     "base_uri": "https://localhost:8080/"
    },
    "id": "2KK2VMxJrlYO",
    "outputId": "57254b65-2a4a-4cad-b945-a031f03fd130"
   },
   "outputs": [
    {
     "name": "stdout",
     "output_type": "stream",
     "text": [
      "+-----+---------------+\n",
      "|state|complaint_count|\n",
      "+-----+---------------+\n",
      "|   FL|         166565|\n",
      "|   TX|         155436|\n",
      "|   CA|         133565|\n",
      "|   GA|          97797|\n",
      "|   NY|          78932|\n",
      "|   IL|          65726|\n",
      "|   PA|          57623|\n",
      "|   NC|          48351|\n",
      "|   NJ|          43362|\n",
      "|   MD|          32426|\n",
      "+-----+---------------+\n",
      "only showing top 10 rows\n",
      "\n"
     ]
    }
   ],
   "source": [
    "spark.sql(\"\"\"\n",
    "    SELECT\n",
    "        state,\n",
    "        COUNT(*) AS complaint_count\n",
    "    FROM complaints\n",
    "    GROUP BY state\n",
    "    ORDER BY complaint_count DESC\n",
    "\"\"\").show(10)"
   ]
  },
  {
   "cell_type": "markdown",
   "metadata": {
    "id": "E9hQcymDrrAz"
   },
   "source": [
    "**Florida (FL)** has the highest complaint count at 166,565, followed closely by **Texas (TX)** and **California (CA)**.\n",
    "- These states may indicate regions where specific consumer issues are more prevalent or where there is higher engagement in filing complaints.\n",
    "\n",
    "This analysis can guide targeted strategies to address consumer concerns in these states."
   ]
  },
  {
   "cell_type": "markdown",
   "metadata": {
    "id": "FybZhEHPr3YS"
   },
   "source": [
    "#### 3.6 Complaints by Root Cause/Issues"
   ]
  },
  {
   "cell_type": "markdown",
   "metadata": {
    "id": "s5QSwDGmr3JW"
   },
   "source": [
    "Find the top 10 issues reported by consumers, highlighting the most common types of complaints"
   ]
  },
  {
   "cell_type": "code",
   "execution_count": null,
   "metadata": {
    "colab": {
     "base_uri": "https://localhost:8080/"
    },
    "id": "slEPatQ9sHNN",
    "outputId": "a66d0e97-a0d7-4bba-cd21-3d6b695a70b7"
   },
   "outputs": [
    {
     "name": "stdout",
     "output_type": "stream",
     "text": [
      "+--------------------------------------------------------------------------------+---------------+\n",
      "|issue                                                                           |complaint_count|\n",
      "+--------------------------------------------------------------------------------+---------------+\n",
      "|Incorrect information on your report                                            |396606         |\n",
      "|Improper use of your report                                                     |286133         |\n",
      "|Problem with a credit reporting company's investigation into an existing problem|130434         |\n",
      "|Problem with a company's investigation into an existing problem                 |129563         |\n",
      "|Attempts to collect debt not owed                                               |52503          |\n",
      "|Managing an account                                                             |35180          |\n",
      "|Written notification about debt                                                 |28237          |\n",
      "|Problem with a purchase shown on your statement                                 |17853          |\n",
      "|Trouble during payment process                                                  |16805          |\n",
      "|Dealing with your lender or servicer                                            |11660          |\n",
      "+--------------------------------------------------------------------------------+---------------+\n",
      "\n"
     ]
    }
   ],
   "source": [
    "spark.sql(\"\"\"\n",
    "    SELECT\n",
    "        issue,\n",
    "        COUNT(*) AS complaint_count\n",
    "    FROM complaints\n",
    "    GROUP BY issue\n",
    "    ORDER BY complaint_count DESC\n",
    "    LIMIT 10\n",
    "\"\"\").show(truncate=False)"
   ]
  },
  {
   "cell_type": "markdown",
   "metadata": {
    "id": "0DX8VZLEsUDX"
   },
   "source": [
    "- The most frequently reported issue is **Incorrect information on your report**, with 396,606 complaints, followed by **Improper use of your report**.\n",
    "- Issues related to **credit reporting** and **investigation problems** dominate the top complaint types, indicating common areas of consumer frustration.\n",
    "- Debt collection-related issues, such as **Attempts to collect debt not owed** and **Written notification about debt**, also feature prominently in the top 10.\n",
    "\n",
    "This breakdown can help identify priority areas for improving consumer experience and addressing recurrent issues effectively."
   ]
  },
  {
   "cell_type": "markdown",
   "metadata": {
    "id": "kMFAhRlJsgKP"
   },
   "source": [
    "#### 3.7 Most Common Issues and Sub Issues\n"
   ]
  },
  {
   "cell_type": "markdown",
   "metadata": {
    "id": "RkAtwdANsrXH"
   },
   "source": [
    "Top 10 most common issues and their associated sub-issues, providing a deeper understanding of specific consumer concerns.\n"
   ]
  },
  {
   "cell_type": "code",
   "execution_count": null,
   "metadata": {
    "colab": {
     "base_uri": "https://localhost:8080/"
    },
    "id": "hHJjcYnysvIl",
    "outputId": "2207c968-5ced-4ed7-9208-527a4f793a1f"
   },
   "outputs": [
    {
     "name": "stdout",
     "output_type": "stream",
     "text": [
      "+--------------------------------------------------------------------------------+--------------------------------------------------------+---------------+\n",
      "|issue                                                                           |sub_issue                                               |complaint_count|\n",
      "+--------------------------------------------------------------------------------+--------------------------------------------------------+---------------+\n",
      "|Incorrect information on your report                                            |Information belongs to someone else                     |237426         |\n",
      "|Improper use of your report                                                     |Reporting company used your report improperly           |221565         |\n",
      "|Problem with a credit reporting company's investigation into an existing problem|Their investigation did not fix an error on your report |84561          |\n",
      "|Problem with a company's investigation into an existing problem                 |Their investigation did not fix an error on your report |79649          |\n",
      "|Improper use of your report                                                     |Credit inquiries on your report that you don't recognize|62281          |\n",
      "|Incorrect information on your report                                            |Account status incorrect                                |59802          |\n",
      "|Incorrect information on your report                                            |Account information incorrect                           |52270          |\n",
      "|Attempts to collect debt not owed                                               |Debt is not yours                                       |27760          |\n",
      "|Incorrect information on your report                                            |Personal information incorrect                          |25173          |\n",
      "|Problem with a company's investigation into an existing problem                 |Investigation took more than 30 days                    |21069          |\n",
      "+--------------------------------------------------------------------------------+--------------------------------------------------------+---------------+\n",
      "\n"
     ]
    }
   ],
   "source": [
    "spark.sql(\"\"\"\n",
    "    SELECT\n",
    "        issue,\n",
    "        sub_issue,\n",
    "        COUNT(*) AS complaint_count\n",
    "    FROM complaints\n",
    "    GROUP BY issue, sub_issue\n",
    "    ORDER BY complaint_count DESC\n",
    "    LIMIT 10\n",
    "\"\"\").show(truncate=False)"
   ]
  },
  {
   "cell_type": "markdown",
   "metadata": {
    "id": "VZj1D8x2szKh"
   },
   "source": [
    "- **Incorrect information on your report** is a prevalent issue, with sub-issues such as **Information belongs to someone else** and **Account status incorrect** topping the list.\n",
    "- **Improper use of your report** and investigation-related complaints also feature prominently, indicating common challenges consumers face with credit reporting and debt collection.\n",
    "- Specific sub-issues, such as **Their investigation did not fix an error on your report**, highlight areas where resolution processes may need improvement.\n",
    "\n",
    "This data provides insights that can be used to address targeted concerns within each issue category."
   ]
  },
  {
   "cell_type": "markdown",
   "metadata": {
    "id": "E00u6Yous3oV"
   },
   "source": [
    "#### 3.8 Average Character Length & Word Count in Complaint Text"
   ]
  },
  {
   "cell_type": "code",
   "execution_count": null,
   "metadata": {
    "colab": {
     "base_uri": "https://localhost:8080/"
    },
    "id": "8iL3Dk56s9U8",
    "outputId": "0fe72527-48e6-4922-db1e-28aa4051da89"
   },
   "outputs": [
    {
     "name": "stdout",
     "output_type": "stream",
     "text": [
      "+--------------------+------------------+\n",
      "|avg_narrative_length|    avg_word_count|\n",
      "+--------------------+------------------+\n",
      "|   985.9831593030136|212.96503326891198|\n",
      "+--------------------+------------------+\n",
      "\n"
     ]
    }
   ],
   "source": [
    "spark.sql(\"\"\"\n",
    "    SELECT\n",
    "        AVG(LENGTH(consumer_complaint_narrative)) AS avg_narrative_length,\n",
    "        AVG(SIZE(SPLIT(consumer_complaint_narrative, ' '))) AS avg_word_count\n",
    "    FROM complaints\n",
    "    WHERE consumer_complaint_narrative IS NOT NULL\n",
    "\"\"\").show()"
   ]
  },
  {
   "cell_type": "markdown",
   "metadata": {
    "id": "-Fzigex_tFMT"
   },
   "source": [
    "#### 3.9 Word Count & Most Frequent Words"
   ]
  },
  {
   "cell_type": "markdown",
   "metadata": {
    "id": "ILsGp2g8tJp4"
   },
   "source": [
    "List the ten most common words found in consumer complaints, along with their respective counts. This frequency analysis highlights recurring themes and key terms in the complaints dataset."
   ]
  },
  {
   "cell_type": "code",
   "execution_count": null,
   "metadata": {
    "colab": {
     "base_uri": "https://localhost:8080/"
    },
    "id": "bmImiwyktQnW",
    "outputId": "285561d1-0628-4cb8-c996-651d7285aa6f"
   },
   "outputs": [
    {
     "name": "stdout",
     "output_type": "stream",
     "text": [
      "+-----------+----------+\n",
      "|       word|word_count|\n",
      "+-----------+----------+\n",
      "|     credit|   2036526|\n",
      "|information|   1707953|\n",
      "|     report|   1624775|\n",
      "|   consumer|   1525733|\n",
      "|    account|   1396111|\n",
      "|  reporting|   1050551|\n",
      "|   accounts|    703728|\n",
      "|      these|    600260|\n",
      "|      which|    574020|\n",
      "|     agency|    543725|\n",
      "+-----------+----------+\n",
      "\n"
     ]
    }
   ],
   "source": [
    "spark.sql(\"\"\"\n",
    "    WITH words AS (SELECT EXPLODE(SPLIT(consumer_complaint_narrative, ' ')) AS word\n",
    "            FROM complaints)\n",
    "    SELECT word, COUNT(*) AS word_count\n",
    "    FROM words\n",
    "    WHERE LENGTH(word) > 4  -- to filter stop words\n",
    "    GROUP BY word\n",
    "    ORDER BY word_count DESC\n",
    "    LIMIT 10\n",
    "\"\"\").show()"
   ]
  },
  {
   "cell_type": "markdown",
   "metadata": {
    "id": "yklasXnotVJz"
   },
   "source": [
    "- **Credit**, **information**, and **report** are the top three most frequent words, indicating that many complaints are related to credit reporting and information accuracy.\n",
    "- The high occurrence of terms such as **consumer** and **account** suggests that complaints often focus on issues related to individual accounts and consumer rights.\n",
    "- Common words like **agency** may point to concerns involving credit agencies or regulatory bodies.\n",
    "\n",
    "This word frequency analysis helps identify common topics and terms, which can guide efforts to address frequent issues in consumer complaints."
   ]
  },
  {
   "cell_type": "markdown",
   "metadata": {
    "id": "ubYfJuOztfdt"
   },
   "source": [
    "#### 3.10 Complaint Narrative Words Counts Distribution"
   ]
  },
  {
   "cell_type": "code",
   "execution_count": null,
   "metadata": {
    "colab": {
     "base_uri": "https://localhost:8080/",
     "height": 564
    },
    "id": "kaUZWEIbtp2G",
    "outputId": "954190dc-e606-4c89-ae0c-be6e29989430"
   },
   "outputs": [
    {
     "data": {
      "image/png": "[encoded data removed]",
      "text/plain": [
       "<Figure size 1000x600 with 1 Axes>"
      ]
     },
     "metadata": {},
     "output_type": "display_data"
    }
   ],
   "source": [
    "import matplotlib.pyplot as plt\n",
    "\n",
    "# SQL query to count the number of words per consumer complaint narrative\n",
    "spark.sql(\"\"\"\n",
    "    SELECT\n",
    "        LENGTH(consumer_complaint_narrative) - LENGTH(REPLACE(consumer_complaint_narrative, ' ', '')) + 1 AS word_count\n",
    "    FROM complaints\n",
    "    WHERE consumer_complaint_narrative IS NOT NULL\n",
    "\"\"\").createOrReplaceTempView(\"complaint_word_counts\")\n",
    "\n",
    "# Load the result of the SQL query into a Pandas DataFrame\n",
    "df_word_counts_per_narrative = spark.sql(\"SELECT * FROM complaint_word_counts\").toPandas()\n",
    "\n",
    "# Plot the distribution of word counts per narrative\n",
    "plt.figure(figsize=(10, 6))\n",
    "\n",
    "# Plot the histogram of word counts per narrative\n",
    "plt.hist(df_word_counts_per_narrative['word_count'],\n",
    "         bins=range(min(df_word_counts_per_narrative['word_count']), max(df_word_counts_per_narrative['word_count']) + 10, 10),\n",
    "         edgecolor='black', alpha=0.7)\n",
    "\n",
    "# Add titles and labels\n",
    "plt.title(\"Distribution of Word Counts per Consumer Complaint Narrative\")\n",
    "plt.xlabel(\"Number of Words per Complaint\")\n",
    "plt.ylabel(\"Frequency\")\n",
    "plt.grid(True)\n",
    "\n",
    "# Show the plot\n",
    "plt.show()\n"
   ]
  },
  {
   "cell_type": "markdown",
   "metadata": {
    "id": "tLhVlJsTtukI"
   },
   "source": [
    "This histogram illustrates the distribution of word counts in consumer complaint narratives. Most complaints have brief narratives, with a significant concentration of narratives under 500 words. The skew towards shorter complaint descriptions suggests that consumers tend to provide concise descriptions of their issues, with fewer instances of detailed, lengthy narratives."
   ]
  },
  {
   "cell_type": "markdown",
   "metadata": {
    "id": "Sgfr1MmVylsV"
   },
   "source": [
    "# 4. Data PreProcessing/Cleaning for ML"
   ]
  },
  {
   "cell_type": "code",
   "execution_count": null,
   "metadata": {
    "id": "qGlmnDqFcC3j"
   },
   "outputs": [],
   "source": [
    "from pyspark.sql.functions import lower, col\n",
    "df = df.withColumn(\"consumer_complaint_narrative\", lower(col(\"consumer_complaint_narrative\")))"
   ]
  },
  {
   "cell_type": "markdown",
   "metadata": {
    "id": "mRDDsTtw1vBS"
   },
   "source": [
    "#### 4.1 Standardizing Product Cateogeries"
   ]
  },
  {
   "cell_type": "code",
   "execution_count": null,
   "metadata": {
    "colab": {
     "base_uri": "https://localhost:8080/"
    },
    "id": "S0mXzEtAalFb",
    "outputId": "eecc6901-af60-4fd6-bf08-b0ba7c541d6c"
   },
   "outputs": [
    {
     "data": {
      "text/plain": [
       "14"
      ]
     },
     "execution_count": 41,
     "metadata": {},
     "output_type": "execute_result"
    }
   ],
   "source": [
    "df.select(\"product\").distinct().count()"
   ]
  },
  {
   "cell_type": "code",
   "execution_count": null,
   "metadata": {
    "colab": {
     "base_uri": "https://localhost:8080/"
    },
    "id": "9fQcaCImlVSr",
    "outputId": "4d4f6455-fec7-48ae-8290-88acafc045ba"
   },
   "outputs": [
    {
     "name": "stdout",
     "output_type": "stream",
     "text": [
      "+----------------------------------------------------------------------------+\n",
      "|product                                                                     |\n",
      "+----------------------------------------------------------------------------+\n",
      "|Debt collection                                                             |\n",
      "|Debt or credit management                                                   |\n",
      "|Money transfer, virtual currency, or money service                          |\n",
      "|Payday loan, title loan, personal loan, or advance loan                     |\n",
      "|Checking or savings account                                                 |\n",
      "|Mortgage                                                                    |\n",
      "|Prepaid card                                                                |\n",
      "|Credit card or prepaid card                                                 |\n",
      "|Credit reporting or other personal consumer reports                         |\n",
      "|Credit card                                                                 |\n",
      "|Credit reporting, credit repair services, or other personal consumer reports|\n",
      "|Vehicle loan or lease                                                       |\n",
      "|Student loan                                                                |\n",
      "|Payday loan, title loan, or personal loan                                   |\n",
      "+----------------------------------------------------------------------------+\n",
      "\n"
     ]
    }
   ],
   "source": [
    "df.select(\"product\").distinct().show(truncate=False)"
   ]
  },
  {
   "cell_type": "markdown",
   "metadata": {
    "id": "yD16Px_tl1dd"
   },
   "source": [
    "There are 14 distinct product categories found. These can further be standardized into below 5 categories.\n",
    "\n",
    "1.   Debt and Credit Management\n",
    " > - Debt collection\n",
    " > - Debt or credit management\n",
    " > - Credit reporting or other personal consumer reports\n",
    " > - Credit reporting, credit repair services, or other personal consumer reports                   \n",
    "2.   Loans\n",
    "> - Payday loan, title loan, personal loan, or advance loan\n",
    "> - Payday loan, title loan, or personal loan\n",
    "> - Student loan\n",
    "> - Vehicle loan or lease\n",
    "> - Mortgage\n",
    "3.   Bank Accounts\n",
    "> - Checking or savings account\n",
    "4.   Credit and Prepaid Cards\n",
    "> - Credit card\n",
    "> - Prepaid card\n",
    "> - Credit card or prepaid card\n",
    "5.   Money Services\n",
    "> - Money transfer, virtual currency, or money service"
   ]
  },
  {
   "cell_type": "code",
   "execution_count": null,
   "metadata": {
    "colab": {
     "base_uri": "https://localhost:8080/"
    },
    "id": "sLRHTkpHyksi",
    "outputId": "0eb21227-5ff4-4691-cfa4-b7c693dc007a"
   },
   "outputs": [
    {
     "name": "stdout",
     "output_type": "stream",
     "text": [
      "+----------------------------------------------------------------------------+--------------------------+\n",
      "|product                                                                     |std_product               |\n",
      "+----------------------------------------------------------------------------+--------------------------+\n",
      "|Credit card                                                                 |Credit and Prepaid Cards  |\n",
      "|Credit reporting or other personal consumer reports                         |Debt and Credit Management|\n",
      "|Debt or credit management                                                   |Debt and Credit Management|\n",
      "|Payday loan, title loan, personal loan, or advance loan                     |Loans                     |\n",
      "|Debt collection                                                             |Debt and Credit Management|\n",
      "|Student loan                                                                |Loans                     |\n",
      "|Credit card or prepaid card                                                 |Credit and Prepaid Cards  |\n",
      "|Vehicle loan or lease                                                       |Loans                     |\n",
      "|Payday loan, title loan, or personal loan                                   |Loans                     |\n",
      "|Mortgage                                                                    |Loans                     |\n",
      "|Money transfer, virtual currency, or money service                          |Money Services            |\n",
      "|Checking or savings account                                                 |Bank Accounts             |\n",
      "|Credit reporting, credit repair services, or other personal consumer reports|Debt and Credit Management|\n",
      "|Prepaid card                                                                |Credit and Prepaid Cards  |\n",
      "+----------------------------------------------------------------------------+--------------------------+\n",
      "\n"
     ]
    }
   ],
   "source": [
    "\n",
    "# Grouping similar items under broader, standardized categories\n",
    "std_df = spark.sql(\"\"\"\n",
    "            SELECT *,\n",
    "              CASE\n",
    "                WHEN product IN (\n",
    "                    'Debt collection',\n",
    "                    'Debt or credit management',\n",
    "                    'Credit reporting or other personal consumer reports',\n",
    "                    'Credit reporting, credit repair services, or other personal consumer reports'\n",
    "                ) THEN 'Debt and Credit Management'\n",
    "                WHEN product IN (\n",
    "                    'Payday loan, title loan, personal loan, or advance loan',\n",
    "                    'Payday loan, title loan, or personal loan',\n",
    "                    'Student loan',\n",
    "                    'Vehicle loan or lease',\n",
    "                    'Mortgage'\n",
    "                ) THEN 'Loans'\n",
    "                WHEN product = 'Checking or savings account' THEN 'Bank Accounts'\n",
    "                WHEN product IN (\n",
    "                    'Credit card',\n",
    "                    'Prepaid card',\n",
    "                    'Credit card or prepaid card'\n",
    "                ) THEN 'Credit and Prepaid Cards'\n",
    "                WHEN product = 'Money transfer, virtual currency, or money service' THEN 'Money Services'\n",
    "                ELSE product\n",
    "            END AS std_product\n",
    "        FROM consumer_complaints\n",
    " \"\"\")\n",
    "\n",
    "\n",
    "# Use Spark SQL to standardize product names\n",
    "# std_df = spark.sql(\"\"\"\n",
    "#     SELECT *,\n",
    "#       CASE\n",
    "#         WHEN product LIKE '%Debt%' THEN 'debt collection or management'\n",
    "#         WHEN product LIKE '%Credit reporting%' OR product LIKE '%Credit repair%' THEN 'credit reporting or repair'\n",
    "#         WHEN product LIKE '%Credit card%' OR product LIKE '%Prepaid%'  THEN 'credit or prepaid card'\n",
    "#         WHEN product LIKE '%Money transfer%' OR product LIKE '%Virtual currency%' THEN 'money transfer or virtual currency'\n",
    "#         WHEN product LIKE '%Payday loan%' OR product LIKE '%title loan%' OR product LIKE '%personal loan%' THEN 'pay day or personal loan'\n",
    "#         WHEN product LIKE '%Checking%' OR product LIKE '%Savings%' THEN 'checking or savings account'\n",
    "#         WHEN product LIKE '%Mortgage%' THEN 'mortgage'\n",
    "#         WHEN product LIKE '%Vehicle loan%' THEN 'vehicle loan or lease'\n",
    "#         WHEN product LIKE '%Student loan%' THEN 'student loan'\n",
    "#         ELSE product\n",
    "#       END AS std_product\n",
    "#     FROM consumer_complaints\n",
    "# \"\"\")\n",
    "\n",
    "# Show the new standardized products\n",
    "std_df.select(\"product\", \"std_product\").distinct().show(truncate=False)"
   ]
  },
  {
   "cell_type": "code",
   "execution_count": null,
   "metadata": {
    "colab": {
     "base_uri": "https://localhost:8080/"
    },
    "id": "KHKDAYCyl_US",
    "outputId": "7fd58c7a-3584-4035-f637-c1bd3db1ffc1"
   },
   "outputs": [
    {
     "data": {
      "text/plain": [
       "5"
      ]
     },
     "execution_count": 44,
     "metadata": {},
     "output_type": "execute_result"
    }
   ],
   "source": [
    "std_df.select(\"std_product\").distinct().count()"
   ]
  },
  {
   "cell_type": "code",
   "execution_count": null,
   "metadata": {
    "colab": {
     "base_uri": "https://localhost:8080/"
    },
    "id": "J_Q1Rxl2aFur",
    "outputId": "04bf4c3b-cca0-4dd1-eaed-7c1046117228"
   },
   "outputs": [
    {
     "name": "stdout",
     "output_type": "stream",
     "text": [
      "+--------------------------+-------+\n",
      "|std_product               |count  |\n",
      "+--------------------------+-------+\n",
      "|Credit and Prepaid Cards  |82121  |\n",
      "|Loans                     |74217  |\n",
      "|Debt and Credit Management|1053291|\n",
      "|Money Services            |21969  |\n",
      "|Bank Accounts             |63004  |\n",
      "+--------------------------+-------+\n",
      "\n"
     ]
    }
   ],
   "source": [
    "std_df.groupBy('std_product').count().show(truncate=False)"
   ]
  },
  {
   "cell_type": "markdown",
   "metadata": {
    "id": "ISfEzTHfsv2V"
   },
   "source": [
    "#### 4.2 Optimize Data Types Based on Range"
   ]
  },
  {
   "cell_type": "markdown",
   "metadata": {
    "id": "hlCzm2w7uvlZ"
   },
   "source": [
    "Print the Schema of dataframe"
   ]
  },
  {
   "cell_type": "code",
   "execution_count": null,
   "metadata": {
    "colab": {
     "base_uri": "https://localhost:8080/"
    },
    "id": "JLUnKhEkx4Ha",
    "outputId": "b3d5c6c6-dfeb-4893-9858-6d8ae3f9d519"
   },
   "outputs": [
    {
     "name": "stdout",
     "output_type": "stream",
     "text": [
      "root\n",
      " |-- date_received: date (nullable = true)\n",
      " |-- product: string (nullable = true)\n",
      " |-- sub_product: string (nullable = true)\n",
      " |-- issue: string (nullable = true)\n",
      " |-- sub_issue: string (nullable = true)\n",
      " |-- consumer_complaint_narrative: string (nullable = true)\n",
      " |-- company: string (nullable = true)\n",
      " |-- state: string (nullable = true)\n",
      " |-- zip_code: string (nullable = true)\n",
      " |-- date_sent_to_company: string (nullable = true)\n",
      " |-- company_response_to_consumer: string (nullable = true)\n",
      " |-- timely_response: integer (nullable = true)\n",
      " |-- complaint_id: integer (nullable = true)\n",
      " |-- std_product: string (nullable = true)\n",
      "\n"
     ]
    }
   ],
   "source": [
    "std_df.printSchema()"
   ]
  },
  {
   "cell_type": "markdown",
   "metadata": {
    "id": "0E1W7rh1ub7D"
   },
   "source": [
    "Find minimum and maximum values for numeric columns and decide the appropriate data types accordingly"
   ]
  },
  {
   "cell_type": "code",
   "execution_count": null,
   "metadata": {
    "colab": {
     "base_uri": "https://localhost:8080/"
    },
    "id": "Plzn6T0XsXN-",
    "outputId": "f26fa9fc-1cf4-44ff-ab39-d2648dd47837"
   },
   "outputs": [
    {
     "name": "stdout",
     "output_type": "stream",
     "text": [
      "+-------------------+-------------------+----------------+----------------+\n",
      "|min_timely_response|max_timely_response|min_complaint_id|max_complaint_id|\n",
      "+-------------------+-------------------+----------------+----------------+\n",
      "|                  0|                  1|         4855230|        10585431|\n",
      "+-------------------+-------------------+----------------+----------------+\n",
      "\n"
     ]
    }
   ],
   "source": [
    "# Find the min and max for numeric columns\n",
    "std_df.selectExpr(\n",
    "    \"MIN(timely_response) as min_timely_response\",\n",
    "    \"MAX(timely_response) as max_timely_response\",\n",
    "    \"MIN(complaint_id) as min_complaint_id\",\n",
    "    \"MAX(complaint_id) as max_complaint_id\"\n",
    ").show()"
   ]
  },
  {
   "cell_type": "markdown",
   "metadata": {
    "id": "uJbDNUt7vUmW"
   },
   "source": [
    "Cast columns to optimized data types\n"
   ]
  },
  {
   "cell_type": "code",
   "execution_count": null,
   "metadata": {
    "colab": {
     "base_uri": "https://localhost:8080/"
    },
    "id": "0MnNTA0BvR2S",
    "outputId": "6c1a569e-5a08-44a8-cca5-df9bc59d42b5"
   },
   "outputs": [
    {
     "name": "stdout",
     "output_type": "stream",
     "text": [
      "root\n",
      " |-- date_received: date (nullable = true)\n",
      " |-- product: string (nullable = true)\n",
      " |-- sub_product: string (nullable = true)\n",
      " |-- issue: string (nullable = true)\n",
      " |-- sub_issue: string (nullable = true)\n",
      " |-- consumer_complaint_narrative: string (nullable = true)\n",
      " |-- company: string (nullable = true)\n",
      " |-- state: string (nullable = true)\n",
      " |-- zip_code: string (nullable = true)\n",
      " |-- date_sent_to_company: string (nullable = true)\n",
      " |-- company_response_to_consumer: string (nullable = true)\n",
      " |-- timely_response: byte (nullable = true)\n",
      " |-- complaint_id: integer (nullable = true)\n",
      " |-- std_product: string (nullable = true)\n",
      "\n"
     ]
    }
   ],
   "source": [
    "std_df = std_df.withColumn(\"timely_response\", F.col(\"timely_response\").cast(ByteType()))\n",
    "# Verify the schema after casting\n",
    "std_df.printSchema()"
   ]
  },
  {
   "cell_type": "code",
   "execution_count": null,
   "metadata": {
    "colab": {
     "base_uri": "https://localhost:8080/"
    },
    "id": "8QNkAUaBcZA3",
    "outputId": "658b6841-1cd7-4554-9089-822804117c69"
   },
   "outputs": [
    {
     "data": {
      "text/plain": [
       "55772"
      ]
     },
     "execution_count": 49,
     "metadata": {},
     "output_type": "execute_result"
    }
   ],
   "source": [
    "del df\n",
    "import gc\n",
    "gc.collect()"
   ]
  },
  {
   "cell_type": "markdown",
   "metadata": {
    "id": "GrKFZOWhsTp5"
   },
   "source": [
    "Save the Optimized DataFrame"
   ]
  },
  {
   "cell_type": "code",
   "execution_count": null,
   "metadata": {
    "id": "QgSpb2NLRcqS"
   },
   "outputs": [],
   "source": [
    "!rm -rf {PROJECT_DIR}/consumer_complaints\n",
    "!rm -rf /content/consumer_complaints"
   ]
  },
  {
   "cell_type": "code",
   "execution_count": null,
   "metadata": {
    "id": "T7kwVXpfRZff"
   },
   "outputs": [],
   "source": [
    "# Once saved, this table will persist across cluster restarts as well as allow various users across different notebooks to query this data.\n",
    "# To do so, choose your table name and uncomment the bottom line.\n",
    "permanent_table_name = \"consumer_complaints\"\n",
    "std_df.write.format(\"parquet\").mode(\"overwrite\").save(permanent_table_name)"
   ]
  },
  {
   "cell_type": "code",
   "execution_count": null,
   "metadata": {
    "id": "kHB3a8EFRe0w"
   },
   "outputs": [],
   "source": [
    "!cp -r /content/consumer_complaints {PROJECT_DIR}/consumer_complaints"
   ]
  },
  {
   "cell_type": "code",
   "execution_count": null,
   "metadata": {
    "id": "XZVIDPwAzDVP"
   },
   "outputs": [],
   "source": [
    "# !find . -iname *parquet*"
   ]
  },
  {
   "cell_type": "code",
   "execution_count": null,
   "metadata": {
    "colab": {
     "base_uri": "https://localhost:8080/"
    },
    "id": "8DhGv7Hf2SQw",
    "outputId": "14676936-834e-49f2-b115-7e51a47d7597"
   },
   "outputs": [
    {
     "name": "stdout",
     "output_type": "stream",
     "text": [
      "total 569M\n",
      "-rw-r--r-- 1 root root 125M Nov 17 23:56 part-00003-87fdbfb3-9725-47b8-a645-400124d1d624-c000.snappy.parquet\n",
      "-rw-r--r-- 1 root root 126M Nov 17 23:56 part-00001-87fdbfb3-9725-47b8-a645-400124d1d624-c000.snappy.parquet\n",
      "-rw-r--r-- 1 root root 125M Nov 17 23:56 part-00002-87fdbfb3-9725-47b8-a645-400124d1d624-c000.snappy.parquet\n",
      "-rw-r--r-- 1 root root 125M Nov 17 23:56 part-00000-87fdbfb3-9725-47b8-a645-400124d1d624-c000.snappy.parquet\n",
      "-rw-r--r-- 1 root root  69M Nov 17 23:56 part-00004-87fdbfb3-9725-47b8-a645-400124d1d624-c000.snappy.parquet\n",
      "-rw-r--r-- 1 root root    0 Nov 17 23:56 _SUCCESS\n"
     ]
    }
   ],
   "source": [
    "!ls -lrth /content/consumer_complaints"
   ]
  },
  {
   "cell_type": "markdown",
   "metadata": {
    "id": "Iix2HgsR59Ot"
   },
   "source": [
    "The presence of multiple part files when saving a DataFrame in PySpark is expected behavior and relates to how PySpark handles data distribution and storage:\n",
    "\n",
    "#### 1. **Why Multiple Part Files?**\n",
    "- **Distributed Computing**: PySpark runs on a distributed computing framework (e.g., Spark on Hadoop or standalone clusters), which divides the data into partitions that are processed in parallel by different worker nodes.\n",
    "- **Parallel Writes**: When writing a DataFrame to a file format (e.g., Parquet, CSV), each partition writes its portion of the data as a separate file. These files are usually named as `part-00000`, `part-00001`, and so on.\n",
    "- **Scalability**: This approach allows Spark to scale data writing operations across multiple nodes, making it faster and more efficient to handle large data volumes.\n",
    "\n",
    "#### 2. **What are Part Files?**\n",
    "- **Part Files**: Each `part` file is a slice of the overall DataFrame data. These files are typically in the format `part-xxxxx` where `xxxxx` is a unique identifier for each partition.\n",
    "- **File Size**: The number of part files depends on the number of partitions in A DataFrame. Smaller partitions mean more part files, and larger partitions mean fewer part files.\n",
    "- **Change number of partitions if Needed**: `coalesce()` or `repartition()` is used to change the number of partitions.\n",
    "\n",
    "\n",
    "In many cases, leaving the part files as is can be beneficial.Being mindful of the trade-offs in performance and memory usage is essential when deciding the number of partitions. By deafult, number of paritions will be same as the available number of cores."
   ]
  },
  {
   "cell_type": "markdown",
   "metadata": {
    "id": "86tfYBBxwZOC"
   },
   "source": [
    "## 4. Machine Learning Models Implementation"
   ]
  },
  {
   "cell_type": "markdown",
   "metadata": {
    "id": "Ihvur00TC29b"
   },
   "source": [
    "#### Read the stored parquet file (If required)"
   ]
  },
  {
   "cell_type": "code",
   "execution_count": null,
   "metadata": {
    "id": "7qb_s4HBDN06"
   },
   "outputs": [],
   "source": [
    "output_path = f\"/content/drive/MyDrive/bigdata_proj_data/consumer_complaints\"\n",
    "\n",
    "# options\n",
    "infer_schema = \"true\"  # Enables Spark to infer the data types of columns automatically\n",
    "first_row_is_header = \"true\"  # Treats the first row as the header to capture column names\n",
    "\n",
    "std_df = spark.read.format(\"parquet\")\\\n",
    "  .option(\"inferSchema\", infer_schema)\\\n",
    "  .option(\"header\", first_row_is_header)\\\n",
    "  .load(output_path)"
   ]
  },
  {
   "cell_type": "code",
   "execution_count": null,
   "metadata": {
    "colab": {
     "base_uri": "https://localhost:8080/"
    },
    "id": "LDJV0tqqHj2L",
    "outputId": "8454cd5b-c01f-4337-e761-fdfcd7682649"
   },
   "outputs": [
    {
     "data": {
      "text/plain": [
       "88"
      ]
     },
     "execution_count": 14,
     "metadata": {},
     "output_type": "execute_result"
    }
   ],
   "source": [
    "from pyspark.ml.feature import Tokenizer, StopWordsRemover, HashingTF, IDF, StringIndexer\n",
    "from pyspark.ml import Pipeline\n",
    "from pyspark.sql.functions import col\n",
    "import gc\n",
    "\n",
    "# text Tokenization\n",
    "tokenizer = Tokenizer(inputCol=\"consumer_complaint_narrative\", outputCol=\"words\")\n",
    "\n",
    "# Remove Stop Words\n",
    "stopwords_remover = StopWordsRemover(inputCol=\"words\", outputCol=\"filtered_words\")\n",
    "\n",
    "# TF (Term Frequency) Vectorization\n",
    "hashing_tf = HashingTF(inputCol=\"filtered_words\", outputCol=\"raw_features\", numFeatures=10000)\n",
    "\n",
    "# IDF (Inverse Document Frequency) to down-weight common words\n",
    "idf = IDF(inputCol=\"raw_features\", outputCol=\"features\")\n",
    "\n",
    "# Index the labels (products) as numerical categories for ML algorithms\n",
    "label_indexer = StringIndexer(inputCol=\"std_product\", outputCol=\"label\")\n",
    "\n",
    "# Define the reusable text transformation pipeline\n",
    "text_pipeline = Pipeline(stages=[tokenizer, stopwords_remover, hashing_tf, idf, label_indexer])\n",
    "\n",
    "# Sample data without replacement\n",
    "sample_df = std_df.sample(withReplacement=False, fraction=0.25, seed=2024)\n",
    "# Split the data into training and test sets\n",
    "train_df, test_df = sample_df.randomSplit([0.7, 0.3], seed=2024)\n",
    "# recollect some memory\n",
    "del std_df\n",
    "gc.collect()"
   ]
  },
  {
   "cell_type": "code",
   "execution_count": null,
   "metadata": {
    "id": "81IrlfSZkQPG"
   },
   "outputs": [],
   "source": [
    "# Fit the text transformation pipeline only on the training data\n",
    "text_model = text_pipeline.fit(train_df)\n",
    "train_transformed_df = text_model.transform(train_df)\n",
    "test_transformed_df = text_model.transform(test_df)"
   ]
  },
  {
   "cell_type": "code",
   "execution_count": null,
   "metadata": {
    "colab": {
     "base_uri": "https://localhost:8080/"
    },
    "id": "FwCyg1sAHr6D",
    "outputId": "3c11dc46-711a-4bcd-e9e8-e4c15ffac9db"
   },
   "outputs": [
    {
     "name": "stdout",
     "output_type": "stream",
     "text": [
      "Logistic Regression Accuracy: 0.9133\n"
     ]
    }
   ],
   "source": [
    "from pyspark.ml.classification import LogisticRegression\n",
    "from pyspark.ml.classification import DecisionTreeClassifier, NaiveBayes\n",
    "from pyspark.ml.evaluation import MulticlassClassificationEvaluator\n",
    "\n",
    "# Model Evaluator (accuracy metric)\n",
    "evaluator = MulticlassClassificationEvaluator(labelCol=\"label\", predictionCol=\"prediction\", metricName=\"accuracy\")\n",
    "\n",
    "# Dictionary to store models and their accuracies\n",
    "model_accuracies = {}\n",
    "\n",
    "### Model 1: Logistic Regression\n",
    "lr = LogisticRegression(featuresCol=\"features\", labelCol=\"label\", maxIter=20)\n",
    "lr_model = lr.fit(train_transformed_df)\n",
    "lr_predictions = lr_model.transform(test_transformed_df)\n",
    "lr_accuracy = evaluator.evaluate(lr_predictions)\n",
    "model_accuracies[\"Logistic Regression\"] = lr_accuracy\n",
    "print(f\"Logistic Regression Accuracy: {lr_accuracy:.4f}\")"
   ]
  },
  {
   "cell_type": "code",
   "execution_count": null,
   "metadata": {
    "colab": {
     "base_uri": "https://localhost:8080/"
    },
    "id": "smQb6pp3H0Ue",
    "outputId": "66939ca8-51f0-42e2-ee6e-cf92138b78b2"
   },
   "outputs": [
    {
     "name": "stdout",
     "output_type": "stream",
     "text": [
      "Decision Tree Accuracy: 0.8717\n"
     ]
    }
   ],
   "source": [
    "### Model 2: Decision Tree Classifier\n",
    "dt = DecisionTreeClassifier(featuresCol=\"features\", labelCol=\"label\")\n",
    "dt_model = dt.fit(train_transformed_df)\n",
    "dt_predictions = dt_model.transform(test_transformed_df)\n",
    "dt_accuracy = evaluator.evaluate(dt_predictions)\n",
    "model_accuracies[\"Decision Tree\"] = dt_accuracy\n",
    "print(f\"Decision Tree Accuracy: {dt_accuracy:.4f}\")"
   ]
  },
  {
   "cell_type": "code",
   "execution_count": null,
   "metadata": {
    "colab": {
     "base_uri": "https://localhost:8080/"
    },
    "id": "Mw0QPxlbH6oS",
    "outputId": "45c48067-39e6-402c-b326-55690afdf68b"
   },
   "outputs": [
    {
     "name": "stdout",
     "output_type": "stream",
     "text": [
      "Naive Bayes Accuracy: 0.8643\n"
     ]
    }
   ],
   "source": [
    "### Model 3: Naive Bayes Classifier\n",
    "nb = NaiveBayes(featuresCol=\"features\", labelCol=\"label\", smoothing=1.0)\n",
    "nb_model = nb.fit(train_transformed_df)\n",
    "nb_predictions = nb_model.transform(test_transformed_df)\n",
    "nb_accuracy = evaluator.evaluate(nb_predictions)\n",
    "model_accuracies[\"Naive Bayes\"] = nb_accuracy\n",
    "print(f\"Naive Bayes Accuracy: {nb_accuracy:.4f}\")"
   ]
  },
  {
   "cell_type": "markdown",
   "metadata": {
    "id": "3n3s_q1QwZOC"
   },
   "source": [
    "## 5. Model Evaluation and Comparision"
   ]
  },
  {
   "cell_type": "code",
   "execution_count": null,
   "metadata": {
    "colab": {
     "base_uri": "https://localhost:8080/"
    },
    "id": "wTEy_XaPSQWq",
    "outputId": "62f25ac5-2537-49c0-895e-6d9e1f26b616"
   },
   "outputs": [
    {
     "name": "stdout",
     "output_type": "stream",
     "text": [
      "Logistic Regression - Accuracy: 0.9132801347423771 Precision: 0.9101827908224773 Recall: 0.9132801347423771 F1 Score: 0.9115066409814747\n",
      "Decision Tree - Accuracy: 0.871696911811525 Precision: 0.8453413252509232 Recall: 0.871696911811525 F1 Score: 0.8517922666288231\n",
      "Naive Bayes - Accuracy: 0.8642614330755564 Precision: 0.9027939179325055 Recall: 0.8642614330755565 F1 Score: 0.8768842060890347\n"
     ]
    }
   ],
   "source": [
    "from pyspark.ml.evaluation import MulticlassClassificationEvaluator\n",
    "\n",
    "evaluator = MulticlassClassificationEvaluator(labelCol=\"label\", predictionCol=\"prediction\")\n",
    "\n",
    "# Evaluate Logistic Regression\n",
    "lr_accuracy = evaluator.evaluate(lr_predictions, {evaluator.metricName: \"accuracy\"})\n",
    "lr_precision = evaluator.evaluate(lr_predictions, {evaluator.metricName: \"weightedPrecision\"})\n",
    "lr_recall = evaluator.evaluate(lr_predictions, {evaluator.metricName: \"weightedRecall\"})\n",
    "lr_f1 = evaluator.evaluate(lr_predictions, {evaluator.metricName: \"f1\"})\n",
    "print(\"Logistic Regression - Accuracy:\", lr_accuracy, \"Precision:\", lr_precision, \"Recall:\", lr_recall, \"F1 Score:\", lr_f1)\n",
    "\n",
    "# Evaluate Decision Tree\n",
    "dt_accuracy = evaluator.evaluate(dt_predictions, {evaluator.metricName: \"accuracy\"})\n",
    "dt_precision = evaluator.evaluate(dt_predictions, {evaluator.metricName: \"weightedPrecision\"})\n",
    "dt_recall = evaluator.evaluate(dt_predictions, {evaluator.metricName: \"weightedRecall\"})\n",
    "dt_f1 = evaluator.evaluate(dt_predictions, {evaluator.metricName: \"f1\"})\n",
    "print(\"Decision Tree - Accuracy:\", dt_accuracy, \"Precision:\", dt_precision, \"Recall:\", dt_recall, \"F1 Score:\", dt_f1)\n",
    "\n",
    "# Evaluate the Naive Bayes\n",
    "nb_accuracy = evaluator.evaluate(nb_predictions, {evaluator.metricName: \"accuracy\"})\n",
    "nb_precision = evaluator.evaluate(nb_predictions, {evaluator.metricName: \"weightedPrecision\"})\n",
    "nb_recall = evaluator.evaluate(nb_predictions, {evaluator.metricName: \"weightedRecall\"})\n",
    "nb_f1 = evaluator.evaluate(nb_predictions, {evaluator.metricName: \"f1\"})\n",
    "print(\"Naive Bayes - Accuracy:\", nb_accuracy, \"Precision:\", nb_precision, \"Recall:\", nb_recall, \"F1 Score:\", nb_f1)\n"
   ]
  },
  {
   "cell_type": "markdown",
   "metadata": {
    "id": "udEHcReAkwqF"
   },
   "source": [
    "#### Hyperparameter tunning with 3-fold CV for logisitc regression"
   ]
  },
  {
   "cell_type": "code",
   "execution_count": null,
   "metadata": {
    "id": "85PKnaNukYRs"
   },
   "outputs": [],
   "source": [
    "from pyspark.ml.classification import LogisticRegression\n",
    "from pyspark.ml.tuning import CrossValidator, ParamGridBuilder\n",
    "from pyspark.ml.evaluation import MulticlassClassificationEvaluator\n",
    "from pyspark.ml import Pipeline\n",
    "\n",
    "# Define the Model\n",
    "lr = LogisticRegression(featuresCol=\"features\", labelCol=\"label\")\n",
    "\n",
    "# Create ParamGrid\n",
    "paramGrid = ParamGridBuilder() \\\n",
    "    .addGrid(lr.regParam, [0.01, 0.1, 1.0]) \\\n",
    "    .addGrid(lr.elasticNetParam, [0.0, 0.5, 1.0]) \\\n",
    "    .build()\n",
    "\n",
    "# Set the Evaluator\n",
    "evaluator = MulticlassClassificationEvaluator(\n",
    "    labelCol=\"label\", predictionCol=\"prediction\", metricName=\"accuracy\"\n",
    ")\n",
    "\n",
    "# Create CrossValidator\n",
    "crossval = CrossValidator(\n",
    "    estimator=lr,\n",
    "    estimatorParamMaps=paramGrid,\n",
    "    evaluator=evaluator,\n",
    "    numFolds=3,  # 5-fold cross-validation\n",
    "    parallelism=2  # Parallelism for efficiency\n",
    ")\n",
    "\n",
    "# Fit the Model\n",
    "cvModel = crossval.fit(train_transformed_df)\n",
    "\n",
    "# Retrieve Best Model\n",
    "best_model = cvModel.bestModel"
   ]
  },
  {
   "cell_type": "code",
   "execution_count": null,
   "metadata": {
    "colab": {
     "base_uri": "https://localhost:8080/"
    },
    "id": "v4zBzM38SDp0",
    "outputId": "faf7358d-6434-475e-f91f-82b17595499c"
   },
   "outputs": [
    {
     "name": "stdout",
     "output_type": "stream",
     "text": [
      "+-------------------+------------------+------------------+------------------+------------------+\n",
      "|Model              |Accuracy          |Precision         |Recall            |F1 Score          |\n",
      "+-------------------+------------------+------------------+------------------+------------------+\n",
      "|Logistic Regression|0.9132801347423771|0.9101827908224773|0.9132801347423771|0.9115066409814747|\n",
      "|Decision Tree      |0.871696911811525 |0.8453413252509232|0.871696911811525 |0.8517922666288231|\n",
      "|Naive Bayes        |0.8642614330755564|0.9027939179325055|0.8642614330755565|0.8768842060890347|\n",
      "+-------------------+------------------+------------------+------------------+------------------+\n",
      "\n"
     ]
    }
   ],
   "source": [
    "# Create DataFrame for model metrics\n",
    "evaluation_results = spark.createDataFrame([\n",
    "    (\"Logistic Regression\", lr_accuracy, lr_precision, lr_recall, lr_f1),\n",
    "    (\"Decision Tree\", dt_accuracy, dt_precision, dt_recall, dt_f1),\n",
    "    (\"Naive Bayes\", nb_accuracy, nb_precision, nb_recall, nb_f1)\n",
    "], [\"Model\", \"Accuracy\", \"Precision\", \"Recall\", \"F1 Score\"])\n",
    "\n",
    "# Show the DataFrame\n",
    "evaluation_results.show(truncate=False)"
   ]
  },
  {
   "cell_type": "markdown",
   "metadata": {
    "id": "qeLdXSu0wZOD"
   },
   "source": [
    "## 6. Analysis and Insights"
   ]
  },
  {
   "cell_type": "markdown",
   "metadata": {
    "id": "pRpeMNDnHrmq"
   },
   "source": [
    "### Model Performance:\n",
    "\n",
    "### Reflection on Model Choices and Performance:\n",
    "\n",
    "#### **Why Each Model Was Chosen**:\n",
    "1. **Logistic Regression**:\n",
    "   - Logistic Regression is well-suited for large datasets like this one (1.2 lakh observations). It provides a baseline for classification performance with its simplicity and efficiency, even on datasets with categorical features.\n",
    "\n",
    "2. **Decision Tree**:\n",
    "   - Decision Trees are ideal for datasets with categorical variables and they handle non-linear relationships and interactions well,helping companies understand which types of complaints lead to disputes or delays.\n",
    "   - Decision Trees can provide interpretable insights into which features (keywords) contribute most to outcomes like dispute resolution or company response time.\n",
    "\n",
    "3. **Naive Bayes**:\n",
    "   - Naive Bayes, particularly suitable for text-heavy datasets, is chosen due to the presence of the \"Consumer complaint narrative\" field. Despite its independence assumption, it can efficiently handle large, text-driven datasets, making it a strong candidate for tasks involving textual analysis or classifications based on narrative content.\n",
    "\n",
    "---\n",
    "\n",
    "#### **Comparison of Model Performance**:\n",
    "- **Logistic Regression**:\n",
    "  - **Accuracy (0.913), Precision (0.910), Recall (0.913), F1 Score (0.912)**: Its metrics demonstrate its strong predictive ability for balanced classification tasks. It handles the structured, categorical nature of the dataset well, offering high reliability and a solid baseline.\n",
    "  \n",
    "- **Decision Tree**:\n",
    "  - **Accuracy (0.872), Precision (0.845), Recall (0.872), F1 Score (0.852)**: Decision Tree performs slightly below Logistic Regression, indicating potential overfitting or the need for hyperparameter tuning. However, its interpretability makes it a strong choice for understanding categorical variable importance.\n",
    "\n",
    "- **Naive Bayes**:\n",
    "  - **Accuracy (0.864), Precision (0.903), Recall (0.864), F1 Score (0.877)**: While slightly behind in accuracy, Naive Bayes achieves high precision. This suggests that it is effective in identifying certain classes of complaints (e.g., those with specific narrative content) but may miss more nuanced cases due to the independence assumption.\n",
    "\n",
    "---\n",
    "\n",
    "#### **Strengths and Weaknesses**:\n",
    "1. **Logistic Regression**:\n",
    "   - **Strengths**: Handles large datasets efficiently, robust against multicollinearity, and offers interpretability.\n",
    "   - **Weaknesses**: Struggles with non-linear relationships or complex interactions, which might exist in this dataset.\n",
    "\n",
    "2. **Decision Tree**:\n",
    "   - **Strengths**: Captures non-linear relationships, handles categorical variables well, and is interpretable.\n",
    "   - **Weaknesses**: Prone to overfitting without pruning; sensitive to small variations in the data.\n",
    "\n",
    "3. **Naive Bayes**:\n",
    "   - **Strengths**: Computationally efficient for text-heavy datasets and performs well under the independence assumption.\n",
    "   - **Weaknesses**: The independence assumption often does not hold, and it may fail to capture correlations between variables.\n",
    "\n",
    "---\n",
    "\n",
    "#### **Best Performing Model and Justification**:\n",
    "- **Logistic Regression** emerges as the best-performing model with the highest metrics across accuracy, precision, recall, and F1 score. It handles the structured data efficiently, balancing both interpretability and predictive power.\n",
    "- However, the choice of the final model depends on the **business objective**:\n",
    "  - If **interpretability** is critical, the Decision Tree may be more suitable for identifying complaint patterns and influencing business decisions.\n",
    "  - If **text analysis** is prioritized, Naive Bayes or a more advanced text classification model like TF-IDF + Logistic Regression or an NLP-based model might outperform.\n",
    "\n",
    "---\n",
    "\n",
    "#### **Recommendations for Improvement**:\n",
    "1. **Hyperparameter Tuning**:\n",
    "   - Logistic Regression: Optimize the regularization parameter to improve generalizability.\n",
    "   - Decision Tree: Implement pruning, set maximum tree depth, or consider ensemble methods like Random Forest or Gradient Boosting.\n",
    "   - Naive Bayes: Experiment with feature engineering on text fields (e.g., TF-IDF) to reduce the impact of the independence assumption.\n",
    "\n",
    "2. **Advanced Models**:\n",
    "   - Consider ensemble models (e.g., Random Forest, Gradient Boosted Trees) or deep learning models like neural networks to enhance performance.\n",
    "   - For text-heavy fields, explore NLP models such as BERT for feature extraction.\n",
    "\n",
    "3. **Validation**:\n",
    "   - Use cross-validation or additional subsets of data to confirm the reliability and stability of model performance.\n",
    "\n",
    "By aligning the model choice with the dataset's complexity and business objectives, Logistic Regression is an excellent starting point, but iterative improvements and domain-specific adaptations may yield even better results.\n",
    "Among the models evaluated, **Logistic Regression** performed the best with an accuracy of **91.33%,** followed by **Decision Tree (87.17%)** and **Naive Bayes (86.43%).**\n",
    "\n",
    "Logistic Regression also achieved the **highest F1-score (0.9115)**, indicating its ability to balance precision and recall effectively. This makes it the most reliable model for predicting the target variable in your dataset.\n",
    "\n",
    "**Unexpected Findings**: Despite the robust model performance, the Decision Tree model underperformed slightly in F1-score (0.8518), which might be due to overfitting or insufficient depth in capturing complex relationships in the data."
   ]
  },
  {
   "cell_type": "markdown",
   "metadata": {
    "id": "ebJ0ye0x3gZ6"
   },
   "source": [
    "### Business Implications\n",
    "\n",
    "**Strategic Insights:**\n",
    "Logistic Regression’s ability to classify complaints accurately can be leveraged to automate the prioritization of consumer issues. Companies can deploy this model to predict and preemptively address complaints that are more likely to escalate. The high frequency of complaints related to \"Credit Reporting\" and \"Debt Collection\" suggests that these are critical areas requiring strategic attention.\n",
    "\n",
    "**Operational Adjustments:**\n",
    "Companies should focus on improving resolution processes for the most common issues, such as “Incorrect information on your report” and “Improper use of your report”. Addressing these areas can significantly enhance consumer trust and satisfaction.\n",
    "Introducing a proactive mechanism to resolve frequently recurring sub-issues, like “Account status incorrect,” can streamline operations and reduce complaint volume.\n",
    "Geographic Focus:\n",
    "\n",
    "States like Florida, Texas, and California had the highest complaint counts. This indicates an opportunity to deploy targeted consumer education and support initiatives in these regions."
   ]
  },
  {
   "cell_type": "markdown",
   "metadata": {
    "id": "tiJXL0xW5kYl"
   },
   "source": [
    "### Actionable Recommendations\n",
    "\n",
    "\n",
    "\n",
    "*   **Product-Specific Enhancements:** For \"Credit Reporting\" services, consider implementing user-friendly tools for customers to verify and correct information easily. This can address a significant portion of complaints related to inaccurate reporting.\n",
    "\n",
    "*   **Customer Support Optimization:** The analysis of timely responses shows that 99.35% of complaints received timely responses. However, further training for support staff to resolve complex issues swiftly could address the remaining 0.65% and improve overall customer satisfaction.\n",
    "\n",
    "*   **Complaint Classification Automation:** Utilize the Logistic Regression model to classify incoming complaints into categories and assign priority levels. This would enable more efficient resource allocation and faster resolution times.\n",
    "\n",
    "*   **Monitor Trends and Take Proactive Actions:** The upward trend in complaints over time indicates potential systemic issues in the financial sector. Regular monitoring and proactive service quality audits can mitigate future spikes in complaints.\n"
   ]
  },
  {
   "cell_type": "markdown",
   "metadata": {
    "id": "mwoIiTd7wZOD"
   },
   "source": [
    "## 7. Conclusion"
   ]
  },
  {
   "cell_type": "markdown",
   "metadata": {
    "id": "vcTTAeWO6n1G"
   },
   "source": [
    "This project successfully demonstrated the power of big data analytics and machine learning using PySpark and SparkML. By leveraging distributed computing, we efficiently processed and analyzed a large dataset, ensuring robust data preparation and insightful exploration. The implementation of machine learning models further illustrated the practical application of Spark's scalable architecture in addressing real-world business problems.\n",
    "\n",
    "While the models achieved promising performance, certain limitations, such as potential feature bias and the scope of hyperparameter tuning, were identified. These provide avenues for future improvement, including exploring advanced feature engineering techniques and incorporating additional data sources for greater predictive power.\n"
   ]
  },
  {
   "cell_type": "markdown",
   "metadata": {
    "id": "LsmcingpwZOD"
   },
   "source": [
    "## 8. References\n",
    "\n",
    "- Data Source:[consumerfinance](https://www.consumerfinance.gov/data-research/consumer-complaints/search/?date_received_max=2024-08-06&date_received_min=2024-07-29&has_narrative=true&page=1&searchField=all&size=25&sort=created_date_desc&tab=List)\n"
   ]
  }
 ],
 "metadata": {
  "application/vnd.databricks.v1+notebook": {
   "dashboards": [],
   "environmentMetadata": null,
   "language": "python",
   "notebookMetadata": {
    "mostRecentlyExecutedCommandWithImplicitDF": {
     "commandId": -1,
     "dataframes": [
      "_sqldf"
     ]
    },
    "pythonIndentUnit": 4
   },
   "notebookName": "Bigdata_Spark_EDA_ML",
   "widgets": {}
  },
  "colab": {
   "provenance": []
  },
  "kernelspec": {
   "display_name": "Python 3",
   "name": "python3"
  },
  "language_info": {
   "codemirror_mode": {
    "name": "ipython",
    "version": 3
   },
   "file_extension": ".py",
   "mimetype": "text/x-python",
   "name": "python",
   "nbconvert_exporter": "python",
   "pygments_lexer": "ipython3",
   "version": "3.11.10"
  }
 },
 "nbformat": 4,
 "nbformat_minor": 0
}
